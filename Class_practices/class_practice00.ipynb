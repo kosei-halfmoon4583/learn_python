{
 "cells": [
  {
   "cell_type": "code",
   "execution_count": 61,
   "id": "b4b10dc3-9eb7-45c1-86ea-469d763e0177",
   "metadata": {},
   "outputs": [],
   "source": [
    "class Person:\n",
    "    \n",
    "    # 初期設定\n",
    "    def __init__(self, name, nationality, age):\n",
    "        self.name = name\n",
    "        self.nationality = nationality\n",
    "        self.age = age\n",
    "    \n",
    "    def __call__(self):\n",
    "        print('ここはcallメソッドです。')\n",
    "        \n",
    "    def say_hello(self,name):\n",
    "        print('こんにちは、{}さん。私は{}です。'.format(name, self.name))"
   ]
  },
  {
   "cell_type": "code",
   "execution_count": 62,
   "id": "141e53db-95e5-4ac0-a401-f1633b6682b3",
   "metadata": {},
   "outputs": [],
   "source": [
    "# インスタンス化(実体化)\n",
    "\n",
    "watanuki = Person('綿貫','日本',61)"
   ]
  },
  {
   "cell_type": "code",
   "execution_count": 63,
   "id": "9b15e032-21ce-4dc7-b2c2-196c12c72154",
   "metadata": {},
   "outputs": [
    {
     "data": {
      "text/plain": [
       "'綿貫'"
      ]
     },
     "execution_count": 63,
     "metadata": {},
     "output_type": "execute_result"
    }
   ],
   "source": [
    "watanuki.name"
   ]
  },
  {
   "cell_type": "code",
   "execution_count": 64,
   "id": "10329db0-ec5f-4ced-835d-342b71cf3232",
   "metadata": {},
   "outputs": [
    {
     "data": {
      "text/plain": [
       "'日本'"
      ]
     },
     "execution_count": 64,
     "metadata": {},
     "output_type": "execute_result"
    }
   ],
   "source": [
    "watanuki.nationality"
   ]
  },
  {
   "cell_type": "code",
   "execution_count": 65,
   "id": "b1116017-afce-4e40-9edb-0c1cc13f3755",
   "metadata": {},
   "outputs": [
    {
     "data": {
      "text/plain": [
       "61"
      ]
     },
     "execution_count": 65,
     "metadata": {},
     "output_type": "execute_result"
    }
   ],
   "source": [
    "watanuki.age"
   ]
  },
  {
   "cell_type": "code",
   "execution_count": 66,
   "id": "aebce619-2c76-4c73-8818-ea98aaf508cc",
   "metadata": {},
   "outputs": [],
   "source": [
    "mike = Person('マイク','America',14)"
   ]
  },
  {
   "cell_type": "code",
   "execution_count": 67,
   "id": "af383c61-ff7a-41fd-87ab-b24103a65be1",
   "metadata": {},
   "outputs": [
    {
     "name": "stdout",
     "output_type": "stream",
     "text": [
      "こんにちは、今西さん。私は綿貫です。\n"
     ]
    }
   ],
   "source": [
    "watanuki.say_hello('今西')"
   ]
  },
  {
   "cell_type": "code",
   "execution_count": 68,
   "id": "56f1abe4-fbd0-42da-a65a-aa00bbe87563",
   "metadata": {},
   "outputs": [
    {
     "name": "stdout",
     "output_type": "stream",
     "text": [
      "こんにちは、佐藤さん。私はマイクです。\n"
     ]
    }
   ],
   "source": [
    "mike.say_hello('佐藤')"
   ]
  },
  {
   "cell_type": "code",
   "execution_count": 69,
   "id": "d5cb0e08-cd86-456d-bbd6-d11246633673",
   "metadata": {},
   "outputs": [
    {
     "name": "stdout",
     "output_type": "stream",
     "text": [
      "ここはcallメソッドです。\n",
      "ここはcallメソッドです。\n"
     ]
    }
   ],
   "source": [
    "watanuki.__call__()\n",
    "\n",
    "watanuki()"
   ]
  },
  {
   "cell_type": "code",
   "execution_count": null,
   "id": "17b010b4-1841-467e-96ef-d8384ce8f8da",
   "metadata": {},
   "outputs": [],
   "source": []
  }
 ],
 "metadata": {
  "kernelspec": {
   "display_name": "Python 3 (ipykernel)",
   "language": "python",
   "name": "python3"
  },
  "language_info": {
   "codemirror_mode": {
    "name": "ipython",
    "version": 3
   },
   "file_extension": ".py",
   "mimetype": "text/x-python",
   "name": "python",
   "nbconvert_exporter": "python",
   "pygments_lexer": "ipython3",
   "version": "3.7.12"
  }
 },
 "nbformat": 4,
 "nbformat_minor": 5
}
