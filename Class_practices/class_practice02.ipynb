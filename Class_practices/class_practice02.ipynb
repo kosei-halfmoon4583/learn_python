{
 "cells": [
  {
   "cell_type": "markdown",
   "id": "bdfbd4bc-43cb-4211-bbae-ea2455cb8fa9",
   "metadata": {},
   "source": [
    "#### Pythonのクラスについて(クラス応用編)\n",
    "1.デストラクタ  \n",
    "2.クラスの継承  \n",
    "3.メソッドのオーバーライド  \n",
    "4.クラス変数  \n",
    "5.スタティックメソッド  \n",
    "  \n",
    "1.デストラクタ  \n",
    "コンストラクタは、インスタンスを作成して初期化される時に呼び出されるメソッドですが、一方、デストラクタはインスタンスが不要になり削除される時に呼び出されるメソッドです。  \n",
    "🔸コンストラクタ：インスタンスを作成し初期化するためのメソッド  \n",
    "🔸デストラクタ：インスタンスが不要となり削除する時に機能するメソッド  "
   ]
  },
  {
   "cell_type": "code",
   "execution_count": 3,
   "id": "93f7b160-8d48-4f4c-9fab-f47247e0849b",
   "metadata": {},
   "outputs": [
    {
     "name": "stdout",
     "output_type": "stream",
     "text": [
      "Delete!\n",
      "Yamada\n",
      "Delete!\n",
      "-----------------\n"
     ]
    }
   ],
   "source": [
    "class Student:\n",
    "    \n",
    "    def __init__(self, name):\n",
    "        self.name = name\n",
    "        \n",
    "    def __del__(self):\n",
    "        print(\"Delete!\")\n",
    "\n",
    "person = Student(\"Yamada\")\n",
    "print(person.name)\n",
    "del person\n",
    "print(\"-----------------\")"
   ]
  },
  {
   "cell_type": "code",
   "execution_count": null,
   "id": "ed25cab1-7cbb-4ed0-8a77-94571da4bb1c",
   "metadata": {},
   "outputs": [],
   "source": [
    "# クラスの継承\n"
   ]
  }
 ],
 "metadata": {
  "kernelspec": {
   "display_name": "Python 3 (ipykernel)",
   "language": "python",
   "name": "python3"
  },
  "language_info": {
   "codemirror_mode": {
    "name": "ipython",
    "version": 3
   },
   "file_extension": ".py",
   "mimetype": "text/x-python",
   "name": "python",
   "nbconvert_exporter": "python",
   "pygments_lexer": "ipython3",
   "version": "3.7.12"
  }
 },
 "nbformat": 4,
 "nbformat_minor": 5
}
