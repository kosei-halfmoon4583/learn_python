{
 "cells": [
  {
   "cell_type": "markdown",
   "id": "8e901ce7-211c-4669-8b4a-7afc769321da",
   "metadata": {},
   "source": [
    "#### Pythonのクラスについて(基本編)\n",
    "\n",
    "クラスとは、データと処理をまとめたものです。Pythonではデータのことをアトリビュートと言い、処理のことをメソッドと言います。  \n",
    "アトリビュートとは、クラス内で定義された変数のことです。アトリビュートは変数と同じように、数値や文字列を代入したり、参照したりすることができます。クラスにアトリビュートを作ることを「アトリビュートを定義する」と言います。アトリビュートと変数の違いはクラス内にあるか、クラス外にあるかの違いです。  \n",
    "メソッドとは、関数と同じで色々な「処理」をまとめて一つにしたものです。メソッドはクラス内に定義された関数のことです。メソッドも関数と同じようにdefで定義します。  \n",
    "まとめるとアトリビュートはクラス内の変数、メソッドはクラス内の関数ということになります。  "
   ]
  },
  {
   "cell_type": "code",
   "execution_count": 1,
   "id": "1f22ac2a-84c3-4da8-8327-7e8878f98d5a",
   "metadata": {},
   "outputs": [],
   "source": [
    "# クラスの定義\n",
    "\n",
    "# 関数とメソッドの違いについて\n",
    "# 関数は引数がない場合は、引数なしで定義できますが、メソットは必ず一つ以上の引数を定義する必要があります。\n",
    "# 引数なしでメソットを定義する場合は、'self'を定義するのが慣習です。\n",
    "# メソッドの引数が1つの場合は、(self,引数1)と記述します。同じように2つ以上ある場合は、(self,引数１,引数２...)と記述します。\n",
    "\n",
    "class Student: # クラス名の先頭は大文字にするのがPythonの慣習です。\n",
    "    \n",
    "    def avg(self):\n",
    "        print((80 + 70) /2)        "
   ]
  },
  {
   "cell_type": "code",
   "execution_count": 2,
   "id": "97711cca-4029-48a8-90db-ea42b20e60ff",
   "metadata": {},
   "outputs": [
    {
     "name": "stdout",
     "output_type": "stream",
     "text": [
      "75.0\n"
     ]
    }
   ],
   "source": [
    "# クラスの使い方\n",
    "\n",
    "# クラスはクラスから作られてたインスタンスを変数に代入してから使います。\n",
    "\n",
    "class Student:\n",
    "    \n",
    "    def avg(self):\n",
    "        print((80 + 70) / 2)\n",
    "\n",
    "a001 = Student()\n",
    "a001.avg()"
   ]
  },
  {
   "cell_type": "code",
   "execution_count": 3,
   "id": "b8a51497-289f-41d8-b23e-ed3e286d50bf",
   "metadata": {},
   "outputs": [
    {
     "name": "stdout",
     "output_type": "stream",
     "text": [
      "75.0\n"
     ]
    }
   ],
   "source": [
    "# クラスに引数を渡す\n",
    "\n",
    "class Student:\n",
    "    \n",
    "    def avg(self, math, english):\n",
    "        print((math + english) / 2)\n",
    "\n",
    "a001 = Student() # クラスのインスタンスを生成する\n",
    "a001.avg(80,70) # インスタンス化されたクラスのメソッド(*平均値算出メソッド)を使う\n"
   ]
  },
  {
   "cell_type": "code",
   "execution_count": 4,
   "id": "45c6a83c-c963-4063-991f-f5b4d45f5e2c",
   "metadata": {},
   "outputs": [
    {
     "name": "stdout",
     "output_type": "stream",
     "text": [
      "75.0\n",
      "Sato\n"
     ]
    }
   ],
   "source": [
    "# アトリビュートの定義\n",
    "\n",
    "class Student:\n",
    "    def avg(self, math, english):\n",
    "        print((math + english) / 2)\n",
    "\n",
    "a001 = Student()\n",
    "a001.avg(80,70)\n",
    "\n",
    "a001.name = \"Sato\"\n",
    "print(a001.name)"
   ]
  },
  {
   "cell_type": "code",
   "execution_count": 9,
   "id": "dcdf1615-b3f2-48be-bdbb-55752a60543b",
   "metadata": {},
   "outputs": [
    {
     "name": "stdout",
     "output_type": "stream",
     "text": [
      "Sato\n",
      "Tanaka\n"
     ]
    }
   ],
   "source": [
    "# コンストラクタを定義する\n",
    "\n",
    "class Student:\n",
    "    \n",
    "    def __init__(self):\n",
    "        self.name = \"\"\n",
    "    \n",
    "    def avg(self, math, english):\n",
    "        print((math + english) / 2)\n",
    "\n",
    "a001 = Student()\n",
    "a001.name = \"Sato\"\n",
    "print(a001.name)\n",
    "# print(a001.avg(80,70))\n",
    "\n",
    "a002 = Student()\n",
    "a002.name = \"Tanaka\"\n",
    "print(a002.name)"
   ]
  },
  {
   "cell_type": "code",
   "execution_count": 10,
   "id": "6bc59944-f7ef-41e2-8cfa-1b6a29d9af60",
   "metadata": {},
   "outputs": [
    {
     "name": "stdout",
     "output_type": "stream",
     "text": [
      "Sato\n",
      "Tanaka\n"
     ]
    }
   ],
   "source": [
    "# アトリビュートはインスタンス化と同時に代入することもできます\n",
    "\n",
    "class Student:\n",
    "    \n",
    "    def __init__(self,name):\n",
    "        self.name = name\n",
    "    \n",
    "    def avg(self, math, english):\n",
    "        print((math + english) / 2)\n",
    "\n",
    "a001 = Student(\"Sato\")\n",
    "print(a001.name)\n",
    "\n",
    "a002 = Student(\"Tanaka\")\n",
    "print(a002.name)"
   ]
  },
  {
   "cell_type": "markdown",
   "id": "fa77efd8-729c-4a86-8ad7-6430835e98eb",
   "metadata": {},
   "source": [
    "クラスの便利なところ  \n",
    "クラスは１度定義しておけば、後からいくらでもインスタンス化できます。  \n",
    "車を作る設計図がクラス、たい焼きを作る金型がクラスと表現することもできます。  \n",
    "もう一つ表現するなら、クラスはパソコンで使うコピペです。コピペでどんどんインスタンス化することができます。"
   ]
  },
  {
   "cell_type": "code",
   "execution_count": 21,
   "id": "51155de6-d360-4f8c-8290-91f1680cc710",
   "metadata": {},
   "outputs": [
    {
     "name": "stdout",
     "output_type": "stream",
     "text": [
      "Yamada\n",
      "Delete!\n",
      "-----------------\n"
     ]
    }
   ],
   "source": [
    "# デストラクタ\n",
    "# デストラクタはインスタンスが不要となり削除される時に呼び出されるメソッドです。\n",
    "\n",
    "class Student:\n",
    "    \n",
    "    def __init__(self, name): # インストラクタ定義\n",
    "        self.name = name\n",
    "    \n",
    "    def __del__(self): # デストラクタ定義\n",
    "        print(\"Delete!\")\n",
    "\n",
    "person = Student(\"Yamada\")\n",
    "print(person.name)\n",
    "del person\n",
    "print(\"-----------------\")"
   ]
  },
  {
   "cell_type": "code",
   "execution_count": 23,
   "id": "5236e6d2-fb86-4d99-8b49-ece29ccd2645",
   "metadata": {},
   "outputs": [
    {
     "name": "stdout",
     "output_type": "stream",
     "text": [
      "50\n",
      "60\n",
      "70\n"
     ]
    }
   ],
   "source": [
    "# クラスの継承\n",
    "# クラスの継承とは、あるクラスを基本として、そこからさらに別の機能を持つクラスを作ることです。\n",
    "# 基本となる継承元のクラスを親クラス、またはスーパークラスといいます。そこから派生した継承先クラスのことを子クラス、またはサブクラスと言います。\n",
    "# クラスの継承を行う際、基本的な機能は親クラスで定義します。子クラスには必要な部分だけ書き換えたり、追記したりします。\n",
    "# こうすることで同じ処理をするコードを重複して書く必要がなくなり、コードがシンプルになります。\n",
    "\n",
    "# 最初にクラスの継承を行わずにコードを書いてみる。\n",
    "\n",
    "class Student:\n",
    "    def math(self, score):\n",
    "        print(score)\n",
    "\n",
    "class Grade1:\n",
    "    def math(self, score):\n",
    "        print(score)\n",
    "        \n",
    "    def english(self, score):\n",
    "        print(score)\n",
    "\n",
    "studentA = Student()\n",
    "studentB = Grade1()\n",
    "studentA.math(50)\n",
    "studentB.math(60)\n",
    "studentB.english(70)"
   ]
  },
  {
   "cell_type": "code",
   "execution_count": 26,
   "id": "766336ac-b78b-4e81-83f0-1143274f8bc3",
   "metadata": {},
   "outputs": [
    {
     "name": "stdout",
     "output_type": "stream",
     "text": [
      "50\n",
      "60\n",
      "70\n"
     ]
    }
   ],
   "source": [
    "# クラスの継承を使ってみる(クラスの継承を使うと、親クラスで定義したメソッドを小クラスでも使うことができる）\n",
    "\n",
    "class Student:\n",
    " \n",
    "    def math(self, score):\n",
    "        print(score)\n",
    "\n",
    "class Grade1(Student): # 親クラス:Studentを継承する\n",
    "        \n",
    "    def english(self, score):\n",
    "        print(score)\n",
    "        \n",
    "# 親クラス:Studentで定義しているmathメソッドが子クラス:Grade1に継承されるため、\n",
    "# 子クラス:Grade1ではmathメソッドを定義する必要がなくなりコードがスッキリする\n",
    "        \n",
    "studentA = Student()\n",
    "studentB = Grade1()\n",
    "studentA.math(50)\n",
    "studentB.math(60)\n",
    "studentB.english(70)"
   ]
  },
  {
   "attachments": {
    "6a5ad80c-e30c-4971-95a8-7a6e937d71ef.png": {
     "image/png": "[encoded data removed]"
    }
   },
   "cell_type": "markdown",
   "id": "66171687-2b57-4515-a227-fde693c89481",
   "metadata": {},
   "source": [
    "##### メソッドのオーバーライド\n",
    "オーバーライドとは、親クラスで定義したメソッドを子クラスで改めて定義することです。  \n",
    "これによって親クラスで定義したメソッドは上書きされます。  \n",
    "![Override Of Method.png](attachment:6a5ad80c-e30c-4971-95a8-7a6e937d71ef.png)"
   ]
  },
  {
   "cell_type": "code",
   "execution_count": 1,
   "id": "703617f6-d95a-4687-b221-5544a6eaf27e",
   "metadata": {},
   "outputs": [
    {
     "name": "stdout",
     "output_type": "stream",
     "text": [
      "Name : Sato\n",
      " Age : 12\n",
      "80\n"
     ]
    }
   ],
   "source": [
    "# メソッドのオーバーライド\n",
    "\n",
    "class Student:\n",
    "    def __init__(self, name, age): # コンストラクタ定義\n",
    "        self.name = name\n",
    "        self.age = age\n",
    "        \n",
    "    def math(self, score):\n",
    "        print(score)\n",
    "\n",
    "class Grade1(Student): # 親クラス:Studentを継承する\n",
    "    def __init__(self, name, age):  # コンストラクタ定義(親クラス:Studentと同じメソッド名とする)\n",
    "        super().__init__(name,age) # ここではselfは不要\n",
    "        print(\"Name :\", self.name)\n",
    "        print(\" Age :\", self.age)\n",
    "        \n",
    "    def english(self, score):\n",
    "        print(score)\n",
    "\n",
    "# 親クラス:Studentではname,ageを表示する処理は記述されていません。しかし子クラス:Grade1ではname,ageを表示する処理が書かれています。\n",
    "# 子クラス:Grade1で親クラス:Studentのコンストラクタ(メソッド)をオーバーライドし、name,ageを表示する処理が記述されているため、\n",
    "# name,ageがちゃんと表示されます。\n",
    "        \n",
    "studentA = Student(\"Yamada\", 15)\n",
    "studentB = Grade1(\"Sato\", 12)\n",
    "\n",
    "studentB.english(80)"
   ]
  },
  {
   "attachments": {
    "0d161b21-9207-483a-8539-813f00a0fe61.png": {
     "image/png": "[encoded data removed]"
    }
   },
   "cell_type": "markdown",
   "id": "393e007a-f004-4801-94e0-0628fba90f0b",
   "metadata": {},
   "source": [
    "#### クラス変数\n",
    "クラス変数はそのクラスから作成されたすべてのインスタンスで共有される変数のことです。  \n",
    "クラスの中で通常の変数のように定義します。  \n",
    "一方、インスタンス変数はそのインスタンスで特有の変数のことです。  \n",
    "コンストラクタで定義した変数 name などはインスタンス変数です。  \n",
    "  \n",
    "![Class_variables＆Instance_variables.png](attachment:0d161b21-9207-483a-8539-813f00a0fe61.png)"
   ]
  },
  {
   "cell_type": "code",
   "execution_count": 31,
   "id": "2af04bad-77e5-4811-a2f9-f722edff5c9f",
   "metadata": {},
   "outputs": [
    {
     "name": "stdout",
     "output_type": "stream",
     "text": [
      "junior high school student\n",
      "Yamada\n",
      "15\n",
      "junior high school student\n",
      "Sato\n",
      "12\n"
     ]
    }
   ],
   "source": [
    "# クラス変数\n",
    "\n",
    "class Student:\n",
    "    \n",
    "    # クラス変数定義\n",
    "    job = \"junior high school student\"\n",
    "    \n",
    "    def __init__(self, name, age): # コンストラクタ定義(コンストラクタメソッドのname,ageがインスタンス変数です）\n",
    "        self.name = name\n",
    "        self.age = age\n",
    "\n",
    "studentA = Student(\"Yamada\", 15)\n",
    "print(studentA.job)\n",
    "print(studentA.name)\n",
    "print(studentA.age)\n",
    "\n",
    "studentB = Student(\"Sato\", 12)\n",
    "print(studentB.job)\n",
    "print(studentB.name)\n",
    "print(studentB.age)\n",
    "\n",
    "# 注意事項\n",
    "# 同じ名前のクラス変数とインスタンス変数がある場合は、インスタンス変数が優先されます。\n",
    "# クラス変数はインスタンスを作成しなくてもアクセスできます。(クラス名.クラス変数名で外部からアクセス可能です。）"
   ]
  },
  {
   "cell_type": "code",
   "execution_count": 32,
   "id": "a4928b33-ffa9-44bf-b076-ea19d3438c59",
   "metadata": {},
   "outputs": [
    {
     "name": "stdout",
     "output_type": "stream",
     "text": [
      "14\n"
     ]
    }
   ],
   "source": [
    "# クラスメソッド\n",
    "# クラスメソッドはインスタンスを作成しなくても呼び出せるメソッドです。一方、インスタンスメソッドはインスタンスを作成してしてから\n",
    "# 呼び出すメソッドです。\n",
    "\n",
    "class Student:\n",
    "    \n",
    "    # クラス変数定義\n",
    "    job = \"junior high school student\"\n",
    "    age = 13\n",
    "    \n",
    "    @classmethod # クラスメソッド定義(*クラスメソッドの仮引数にはclsを指定します）\n",
    "    def add_age(cls):\n",
    "        cls.age += 1\n",
    "        return cls.age\n",
    "    \n",
    "    def __init__(self, name, age):\n",
    "        self.name = name\n",
    "        self.age = age\n",
    "\n",
    "print(Student.add_age())\n",
    "\n",
    "# 注意事項\n",
    "# クラスメソッドはクラス変数と同様に、インスタンスを作成しなくても外部から呼び出せます。\n",
    "# クラスメソッドはデコレーターの一種です。\n",
    "# Pythonにはもともとclassmethodという組み込み関数があります。classmethod関数はメソッドをクラスメソッドに変換する関数です。\n",
    "# 上記のコードはclassmethod関数でadd_age関数を修飾しているという構文です。\n",
    "# またクラスメソッドはインスタンスからも呼び出すことができます。"
   ]
  },
  {
   "cell_type": "code",
   "execution_count": 35,
   "id": "0e420cf7-6611-47f8-aca9-478b21abfe32",
   "metadata": {},
   "outputs": [
    {
     "name": "stdout",
     "output_type": "stream",
     "text": [
      "Hello!\n",
      "I am 13\n"
     ]
    }
   ],
   "source": [
    "# スタティックメソット\n",
    "\n",
    "# スタティックメソッドは、クラスメソッド同様にインスタンスを作成せずに呼び出すことができるメソッドです。\n",
    "# ただし、クラスメソッドやインスタンメソッドとは異なり、clsやselfなどの引数を受け取りません。\n",
    "\n",
    "class Student:\n",
    "    \n",
    "    # クラス変数定義\n",
    "    job = \"junior high school student\"\n",
    "    age = 13\n",
    "    \n",
    "    @classmethod # クラスメソッド定義(*クラスメソッドの仮引数にはclsを指定します）\n",
    "    def add_age(cls):\n",
    "        cls.age += 1\n",
    "        return cls.age\n",
    "    \n",
    "    @staticmethod\n",
    "    def greeting():\n",
    "        print(\"Hello!\")\n",
    "        print(f\"I am {Student.age}\")\n",
    "    \n",
    "    def __init__(self, name, age):\n",
    "        self.name = name\n",
    "        self.age = age\n",
    "\n",
    "Student.greeting()\n",
    "\n",
    "# 注意事項\n",
    "# スタティックメソッドはクラスメソッドと同様にインスタンスを作成しなくても呼び出せます。\n",
    "# またスタティックメソッドはクラスメソッドと異なり、クラスが渡されません。そのためクラス変数を使うときは使用するクラス変数の\n",
    "# クラスを宣言する必要があります。\n",
    "# スタティックメソッドはクラス内の変数やメソッドに直接アクセスしません。\n",
    "# 従ってクラスの外で定義した普通の関数と同じ機能を持つと考えられます。\n",
    "# (スタティックメソッドは、クラスの外で定義した関数と同じ機能を持ちます。クラスの外で関数を使いたい場合など、クラウの中で定義した方が\n",
    "# わかりやすい場合にスタティックメソッドが使われます。)\n"
   ]
  }
 ],
 "metadata": {
  "kernelspec": {
   "display_name": "Python 3 (ipykernel)",
   "language": "python",
   "name": "python3"
  },
  "language_info": {
   "codemirror_mode": {
    "name": "ipython",
    "version": 3
   },
   "file_extension": ".py",
   "mimetype": "text/x-python",
   "name": "python",
   "nbconvert_exporter": "python",
   "pygments_lexer": "ipython3",
   "version": "3.7.12"
  }
 },
 "nbformat": 4,
 "nbformat_minor": 5
}
