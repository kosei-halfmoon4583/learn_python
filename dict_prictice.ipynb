{
 "cells": [
  {
   "cell_type": "markdown",
   "id": "4966765b-3348-4140-85be-1d04a603dddb",
   "metadata": {},
   "source": [
    "#### 辞書について  \n",
    "1.辞書とは   \n",
    "2.辞書の作り方   \n",
    "3.辞書のkeyのルール   \n",
    "4.辞書のkeyとvalueの取得   \n",
    "5.辞書の要素のアクセス  \n",
    "6.辞書に要素を追加  \n",
    "7.辞書のデータを更新   \n",
    "8.辞書の要素を削除  \n",
    "9.辞書の要素を全て削除  \n",
    "10.辞書の要素を検索  \n",
    "  \n",
    "1.辞書(辞書型)とは  \n",
    "Pythonにおける辞書とは、辞書型とも呼ばれリストやタプルと同じように複数の要素を持つデータ型です。  \n",
    "辞書（辞書型)はデータ(要素)の追加削除などができます。これをミュータブルなオブジェクトということができます。  \n",
    "リスト(リスト型)と同じです。リストやタプルは要素をインデックスで管理できますが、辞書(辞書型)にはインデックスが存在しません。辞書型はkeyとvalueの組み合わせでデータが格納されており、keyでデータ(要素)を管理することができます。  "
   ]
  },
  {
   "cell_type": "code",
   "execution_count": 4,
   "id": "67d8aef5-8721-41f2-bf64-8f5d510d39d8",
   "metadata": {},
   "outputs": [
    {
     "name": "stdout",
     "output_type": "stream",
     "text": [
      "{'リンゴ': 10, 'オレンジ': 20, 'バナナ': 30}\n",
      "<class 'dict'>\n",
      "{'リンゴ': 10, 'オレンジ': 20, 'バナナ': 30}\n"
     ]
    }
   ],
   "source": [
    "# 2.辞書の作り方\n",
    "\n",
    "d = {'リンゴ':10, 'オレンジ':20, 'バナナ':30}\n",
    "print(d)\n",
    "print(type(d))\n",
    "\n",
    "# dict関数を利用して辞書を作成\n",
    "d = dict(リンゴ=10, オレンジ=20, バナナ=30)\n",
    "print(d)"
   ]
  },
  {
   "cell_type": "code",
   "execution_count": 7,
   "id": "6084c76a-3a2d-4dc5-9383-1bf09918a702",
   "metadata": {},
   "outputs": [
    {
     "name": "stdout",
     "output_type": "stream",
     "text": [
      "{'リンゴ': 40, 'オレンジ': 20, 'バナナ': 30}\n"
     ]
    }
   ],
   "source": [
    "# 3.辞書のkeyのルール\n",
    "# 辞書型は１つのkeyに複数のvalueを登録できません。つまりkeyは重複のない一意の値である必要があります。\n",
    "# 複数登録しようとすると上書きされてしまいます。上行で作成した辞書にもう一度、リンゴを追加して値を４０にして確認してみましょう。\n",
    "\n",
    "d = {'リンゴ':10, 'オレンジ':20, 'バナナ':30, 'リンゴ':40}\n",
    "print(d)\n",
    "\n",
    "# リンゴのkeyが十から４０に書き換えられて(上書き)しまいます。\n",
    "# keyは一意でなければいけませんが、valueは一意である必要はありません。"
   ]
  },
  {
   "cell_type": "code",
   "execution_count": 10,
   "id": "e318cccf-1830-47f1-a59a-2b55174b04b0",
   "metadata": {},
   "outputs": [
    {
     "name": "stdout",
     "output_type": "stream",
     "text": [
      "dict_keys(['リンゴ', 'オレンジ', 'バナナ'])\n",
      "dict_values([40, 20, 30])\n"
     ]
    }
   ],
   "source": [
    "# 4.辞書のkeyとvalueの取得\n",
    "# keysメソッド, valuesメソッドを利用してkey一覧、value一覧を取得する。\n",
    "\n",
    "# keysメソッド\n",
    "print(d.keys())\n",
    "\n",
    "# valusメソッド\n",
    "print(d.values())"
   ]
  },
  {
   "cell_type": "code",
   "execution_count": 12,
   "id": "ea0eceaa-a722-496a-b03d-f3a696584d22",
   "metadata": {},
   "outputs": [
    {
     "name": "stdout",
     "output_type": "stream",
     "text": [
      "10\n",
      "{'リンゴ': 10, 'オレンジ': 20, 'バナナ': 100}\n"
     ]
    }
   ],
   "source": [
    "# 5.辞書の要素のアクセス\n",
    "# 個別のvalueを取得する方法\n",
    "\n",
    "d = {'リンゴ':10, 'オレンジ':20, 'バナナ':30}\n",
    "print(d['リンゴ'])\n",
    "\n",
    "# valueの値を書き換えてみる\n",
    "d['バナナ'] = 100\n",
    "print(d)"
   ]
  },
  {
   "cell_type": "code",
   "execution_count": 17,
   "id": "00f67225-6ff0-414e-a1d7-bb7b443ed4c1",
   "metadata": {},
   "outputs": [
    {
     "name": "stdout",
     "output_type": "stream",
     "text": [
      "{'リンゴ': 10, 'オレンジ': 20, 'バナナ': 30, 'スイカ': 40}\n"
     ]
    }
   ],
   "source": [
    "# 6.辞書に要素を追加\n",
    "# 新しいKeyを指定して、そこにvalueを代入します。\n",
    "\n",
    "d = {'リンゴ':10, 'オレンジ':20, 'バナナ':30}\n",
    "d['スイカ'] = 40\n",
    "print(d)"
   ]
  },
  {
   "cell_type": "code",
   "execution_count": 18,
   "id": "dfcabcee-ef81-4bda-b0a0-e00005ff1559",
   "metadata": {},
   "outputs": [
    {
     "name": "stdout",
     "output_type": "stream",
     "text": [
      "{'リンゴ': 10, 'オレンジ': 20, 'バナナ': 30, 'スイカ': 40, 'メロン': 50}\n"
     ]
    }
   ],
   "source": [
    "# 7.辞書のデータを更新\n",
    "\n",
    "d1 = {'リンゴ':10, 'オレンジ':20, 'バナナ':30}\n",
    "d2 = {'スイカ':40, 'メロン':50}\n",
    "d1.update(d2)\n",
    "print(d1)"
   ]
  },
  {
   "cell_type": "code",
   "execution_count": 25,
   "id": "0560f00a-1efe-4b04-bc99-1fde386255c2",
   "metadata": {},
   "outputs": [
    {
     "name": "stdout",
     "output_type": "stream",
     "text": [
      "{'リンゴ': 10, 'オレンジ': 20}\n",
      "{'オレンジ': 20}\n",
      "{'リンゴ': 10, 'オレンジ': 20}\n"
     ]
    }
   ],
   "source": [
    "# 8.辞書の要素を削除\n",
    "\n",
    "d = {'リンゴ':10, 'オレンジ':20, 'バナナ':30}\n",
    "del d['バナナ']\n",
    "print(d)\n",
    "\n",
    "# 複数のデータ(要素)を削除する\n",
    "d = {'リンゴ':10, 'オレンジ':20, 'バナナ':30}\n",
    "del d['リンゴ'],d['バナナ']\n",
    "print(d)\n",
    "\n",
    "# popメソッドを使ったデータ(要素)の削除\n",
    "# popメソッドは()丸括弧を使用します。\n",
    "d = {'リンゴ':10, 'オレンジ':20, 'バナナ':30}\n",
    "d.pop('バナナ')\n",
    "print(d)"
   ]
  },
  {
   "cell_type": "code",
   "execution_count": 22,
   "id": "1cc0689e-8d6c-452a-84c3-54dd0b400c0e",
   "metadata": {},
   "outputs": [
    {
     "name": "stdout",
     "output_type": "stream",
     "text": [
      "{}\n"
     ]
    }
   ],
   "source": [
    "# 9.辞書の要素を全て削除\n",
    "\n",
    "d = {'リンゴ':10, 'オレンジ':20, 'バナナ':30}\n",
    "d.clear()\n",
    "print(d)"
   ]
  },
  {
   "cell_type": "code",
   "execution_count": 24,
   "id": "0f3a121e-a515-4d11-884c-cd120994a69e",
   "metadata": {},
   "outputs": [
    {
     "name": "stdout",
     "output_type": "stream",
     "text": [
      "True\n",
      "True\n"
     ]
    }
   ],
   "source": [
    "# 10.辞書の要素を検索\n",
    "\n",
    "d = {'リンゴ':10, 'オレンジ':20, 'バナナ':30}\n",
    "print('リンゴ' in d)\n",
    "\n",
    "# 直接値を指定せず、変数を利用することもできます。\n",
    "x = 'オレンジ'\n",
    "print(x in d)"
   ]
  },
  {
   "cell_type": "code",
   "execution_count": null,
   "id": "e259de99-0a4b-46ea-accb-a56aa4d3f941",
   "metadata": {},
   "outputs": [],
   "source": []
  }
 ],
 "metadata": {
  "kernelspec": {
   "display_name": "Python 3 (ipykernel)",
   "language": "python",
   "name": "python3"
  },
  "language_info": {
   "codemirror_mode": {
    "name": "ipython",
    "version": 3
   },
   "file_extension": ".py",
   "mimetype": "text/x-python",
   "name": "python",
   "nbconvert_exporter": "python",
   "pygments_lexer": "ipython3",
   "version": "3.9.12"
  }
 },
 "nbformat": 4,
 "nbformat_minor": 5
}
