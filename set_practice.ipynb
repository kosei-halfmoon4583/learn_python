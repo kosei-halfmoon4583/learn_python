{
 "cells": [
  {
   "cell_type": "markdown",
   "id": "472cb7c6-e9ce-4089-9518-09d6856dd843",
   "metadata": {},
   "source": [
    "#### 集合について\n",
    "1.集合とは  \n",
    "2.集合の作り方  \n",
    "3.空集合の作り方   \n",
    "4.集合に要素を追加   \n",
    "5.集合の要素を削除  \n",
    "6.要素の変更ができない集合   \n",
    "7.集合の演算（和集合/積集合/差集合/対象差集合）   \n",
    "8.集合の関係  \n",
    "9.要素の存在確認   \n",
    "10.要素の獲得  \n",
    "  \n",
    "1.集合とは    \n",
    "　集合とはある条件を満たす集まりのことです。  \n",
    "　集合はリストやタプルとは異なり、以下の特徴があります。  \n",
    " -要素に順番がない  \n",
    " -重複に意味がない  \n",
    " pythonの場合、集合の中に同じ要素があると一つの要素を残して、その他の要素は削除されます。そのため重複要素を削除したい場合は集合を使うと便利です。  "
   ]
  },
  {
   "cell_type": "code",
   "execution_count": 5,
   "id": "a0e31485-0202-4469-9cf0-306ea1fd2351",
   "metadata": {},
   "outputs": [
    {
     "name": "stdout",
     "output_type": "stream",
     "text": [
      "{0, 1, 2, 3}\n",
      "<class 'set'>\n",
      "{1.23, 123, (1, 2, 3)}\n",
      "{0, 1, 2, 3}\n"
     ]
    }
   ],
   "source": [
    "# 2.集合の作り方\n",
    "s = {0, 2, 1, 1, 2, 3, 1}\n",
    "print(s)\n",
    "print(type(s))\n",
    "\n",
    "# 異なるデータ型を持った値を集合として作成することもできます。\n",
    "s1 = {123, 1.23, (1, 2, 3), 123, 1.23}\n",
    "print(s1)\n",
    "\n",
    "# s2 = {123, 1.23, [1, 2, 3], 123, 1.23}\n",
    "# s2のようなリスト型のデータを含む集合を作ることはできません。何故ならリスト型や辞書型のデータ型は値を変更することができるミュータブルなデータ型だからです。\n",
    "\n",
    "a = [0, 2, 1, 1, 2, 3, 1]\n",
    "s3 = set(a)\n",
    "print(s3)"
   ]
  },
  {
   "cell_type": "code",
   "execution_count": 6,
   "id": "2c369cb6-9876-4da1-bf1b-32da822d4aac",
   "metadata": {},
   "outputs": [
    {
     "name": "stdout",
     "output_type": "stream",
     "text": [
      "<class 'set'>\n",
      "<class 'dict'>\n",
      "{0, 1, 2, 3}\n"
     ]
    }
   ],
   "source": [
    "# 3.空集合の作り方\n",
    "s1 = set()\n",
    "s2 = {} # ←辞書とみなされてしまう\n",
    "\n",
    "print(type(s1))\n",
    "print(type(s2))"
   ]
  },
  {
   "cell_type": "code",
   "execution_count": null,
   "id": "22b37110-9aa5-45cb-bc3e-9e08fcba7a72",
   "metadata": {},
   "outputs": [],
   "source": [
    "# 4.集合に要素を追加（集合に要素を追加するメソッド）\n",
    "s = {0, 1, 2}\n",
    "s.add(3)\n",
    "print(s)"
   ]
  },
  {
   "cell_type": "code",
   "execution_count": 8,
   "id": "18dfede6-43ca-4697-ba34-b53ea94b6747",
   "metadata": {},
   "outputs": [
    {
     "name": "stdout",
     "output_type": "stream",
     "text": [
      "{0, 2}\n",
      "set()\n"
     ]
    }
   ],
   "source": [
    "# 5.集合から要素を削除する\n",
    "s = {0, 1, 2}\n",
    "s.remove(1)\n",
    "print(s)\n",
    "\n",
    "s = {0, 1, 2}\n",
    "s.clear()\n",
    "print(s)"
   ]
  },
  {
   "cell_type": "code",
   "execution_count": 11,
   "id": "953be56e-d4c0-408e-b7b3-9b2cfbe7d638",
   "metadata": {},
   "outputs": [
    {
     "name": "stdout",
     "output_type": "stream",
     "text": [
      "frozenset({0, 1, 2, 3})\n"
     ]
    }
   ],
   "source": [
    "# 6.要素の変更ができない集合(frozenset関数)\n",
    "a = [0, 2, 1, 1, 2, 3, 1]\n",
    "s = frozenset(a)\n",
    "print(s)\n",
    "\n",
    "# frozenset関数：集合の要素が変更できない集合\n",
    "# s.add(4)\n",
    "# 上記のように.add()メソッドを使って要素を追加しようとするとエラーが発生する。"
   ]
  },
  {
   "cell_type": "code",
   "execution_count": 15,
   "id": "d143ffff-17ad-436f-8470-105980d76eeb",
   "metadata": {},
   "outputs": [
    {
     "name": "stdout",
     "output_type": "stream",
     "text": [
      "{0, 1, 2, 3}\n",
      "{0, 1, 2, 3}\n",
      "{2}\n",
      "{2}\n",
      "{0}\n",
      "{0}\n",
      "{0, 3}\n",
      "{0, 3}\n"
     ]
    }
   ],
   "source": [
    "# 7.集合の演算（和集合/積集合/差集合/対象差集合）\n",
    "\n",
    "# 和集合:全ての要素のうち少なくてもどれか一つに含まれる要素の集合のことです。\n",
    "s1 = {0, 1, 2}\n",
    "s2 = {1, 2, 3}\n",
    "\n",
    "# バーティカルラインを使って和集合を作る例\n",
    "s3 = s1 | s2\n",
    "print(s3)\n",
    "\n",
    "# union()メソッドを使って和集合を作る例\n",
    "s4 = s1.union(s2)\n",
    "print(s4)\n",
    "\n",
    "# 積集合：積集合とは、全ての集合に含まれる要素の集合のことです。\n",
    "s1 = {0, 1, 2}\n",
    "s2 = {1, 2, 3}\n",
    "s3 = {2, 3, 4}\n",
    "\n",
    "# &を使って積集合を作る例\n",
    "s4 = s1 & s2 & s3\n",
    "print(s4)\n",
    "\n",
    "# intersection()メソッドを使って積集合を作る例\n",
    "s5 = s1.intersection(s2, s3)\n",
    "print(s5)\n",
    "\n",
    "# 差集合：差集合とは、集合Aには含まれるが、集合Bには含まれない要素の集合のことです。\n",
    "s1 = {0, 1, 2}\n",
    "s2 = {1, 2, 3}\n",
    "\n",
    "# -(マイナス)を使って差集合を作る例\n",
    "s3 = s1 - s2\n",
    "print(s3)\n",
    "\n",
    "# difference()メソッドを使って差集合を作る例\n",
    "s4 = s1.difference(s2)\n",
    "print(s4)\n",
    "\n",
    "# 対象差集合：対象差集合とは二つの集合のうち、どちらか一方にだけ含まれる要素の集合のことです。\n",
    "s1 = {0, 1, 2}\n",
    "s2 = {1, 2, 3}\n",
    "\n",
    "# ^（ハット)を使って対象差集合を作る例\n",
    "s3 = s1 ^ s2\n",
    "print(s3)\n",
    "\n",
    "# symmetric_difference()メソッドを使って対照差集合を作る例\n",
    "s4 = s1.symmetric_difference(s2)\n",
    "print(s4)"
   ]
  },
  {
   "cell_type": "code",
   "execution_count": 20,
   "id": "9769a350-04a9-4716-a606-0e875959b08c",
   "metadata": {},
   "outputs": [
    {
     "name": "stdout",
     "output_type": "stream",
     "text": [
      "True\n",
      "True\n",
      "False\n",
      "True\n",
      "True\n",
      "False\n",
      "True\n",
      "False\n"
     ]
    }
   ],
   "source": [
    "# 8.集合の関係\n",
    "\n",
    "# 部分集合：集合Aが集合Bに含まれている時、集合Aは集合Bの部分集合と言います。\n",
    "s1 = {0, 1, 2}\n",
    "s2 = {0, 1, 2, 3, 4}\n",
    "\n",
    "# <=を使って部分集合を判断する例\n",
    "print(s1 <= s2)\n",
    "\n",
    "# issubset()メソッドを使って部分集合を判断する例\n",
    "print(s1.issubset(s2))\n",
    "\n",
    "# 集合が等しいか判断する\n",
    "s1 = {0, 1, 2}\n",
    "s2 = {0, 1, 2, 3, 4}\n",
    "s3 = {2, 1, 0}\n",
    "\n",
    "print(s1 == s2)\n",
    "print(s1 == s3)\n",
    "\n",
    "# 真部分集合\n",
    "s1 = {0, 1, 2}\n",
    "s2 = {0, 1, 2, 3, 4}\n",
    "s3 = {2, 1, 0}\n",
    "\n",
    "print(s1 < s2)\n",
    "print(s1 < s3)\n",
    "\n",
    "# 素(集合)\n",
    "s1 = {0, 1, 2}\n",
    "s2 = {3, 4, 5}\n",
    "s3 = {2, 3, 4}\n",
    "\n",
    "print(s1.isdisjoint(s2))\n",
    "print(s1.isdisjoint(s3))"
   ]
  },
  {
   "cell_type": "code",
   "execution_count": 21,
   "id": "b92806b1-ddac-4aa0-9d95-528fbec81e23",
   "metadata": {},
   "outputs": [
    {
     "name": "stdout",
     "output_type": "stream",
     "text": [
      "True\n",
      "False\n"
     ]
    }
   ],
   "source": [
    "# 9.要素の存在確認\n",
    "s = {1, 2, 3, 4, 5}\n",
    "\n",
    "print(1 in s)\n",
    "print(0 in s)"
   ]
  },
  {
   "cell_type": "code",
   "execution_count": 22,
   "id": "ba230bb3-dcb5-449e-abd9-ac2c75e1aaf3",
   "metadata": {},
   "outputs": [
    {
     "name": "stdout",
     "output_type": "stream",
     "text": [
      "1\n",
      "2\n",
      "3\n",
      "4\n",
      "1\n"
     ]
    }
   ],
   "source": [
    "# 10.要素の獲得\n",
    "\n",
    "# 集合には要素の順番という概念がないため、インデックスを使った要素の取り出しができません。\n",
    "# なので集合から要素を取り出すにはfor文を使います。\n",
    "\n",
    "s = {4, 3, 2, 1}\n",
    "for i in s:\n",
    "    print(i)\n",
    "\n",
    "# 集合をリストに変換して要素を取り出す方法もあります。\n",
    "s = {1, 2, 3, 4}\n",
    "l = list(s)\n",
    "\n",
    "print(l[0])"
   ]
  }
 ],
 "metadata": {
  "kernelspec": {
   "display_name": "Python 3 (ipykernel)",
   "language": "python",
   "name": "python3"
  },
  "language_info": {
   "codemirror_mode": {
    "name": "ipython",
    "version": 3
   },
   "file_extension": ".py",
   "mimetype": "text/x-python",
   "name": "python",
   "nbconvert_exporter": "python",
   "pygments_lexer": "ipython3",
   "version": "3.9.12"
  }
 },
 "nbformat": 4,
 "nbformat_minor": 5
}
