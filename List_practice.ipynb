{
 "cells": [
  {
   "cell_type": "markdown",
   "id": "e45ef0f8-f75c-4458-b779-278fb4aa0c9f",
   "metadata": {},
   "source": [
    "#### LIST  \n",
    "1. Listとは  \n",
    "2. Listの作り方  \n",
    "3. Listの要素へのアクセス、変更  \n",
    "4. Listのネスト  \n",
    "5. Listの足し算  \n",
    "6. Listに要素を追加(append,extend,insert)  \n",
    "7. Listの要素を削除(del,pop,clear,remove)  \n",
    "8. Listの情報を取得(in,index,sort,reverse,min,max)  \n",
    "\n",
    "1.Listとは  \n",
    "  リストとは複数のデータを格納することができるデータ型です。  \n",
    "  変数は一つのデータしか入れらない箱に対して、リストは複数のデータを格納できるロッカーのようなものに例えることができます。  "
   ]
  },
  {
   "cell_type": "code",
   "execution_count": null,
   "id": "17cb48e7-b222-419e-9276-a70359c1b24f",
   "metadata": {},
   "outputs": [],
   "source": [
    "# 2. Listの作り方\n",
    "\n",
    "a = ['sato','suzuki','takahashi']\n",
    "print(a)\n",
    "\n",
    "print(a[0])\n",
    "print(a[1])\n",
    "print(a[2])"
   ]
  },
  {
   "cell_type": "code",
   "execution_count": null,
   "id": "59eca4ae-8e0a-408d-9062-95cf05a39765",
   "metadata": {},
   "outputs": [],
   "source": [
    "# 3. Listの要素へのアクセス、変更\n",
    "\n",
    "a[1] = 'tanaka'\n",
    "print(a[0])\n",
    "print(a[1])\n",
    "print(a[2])\n",
    "\n",
    "print(a[-1])\n",
    "print(a[-2])"
   ]
  },
  {
   "cell_type": "code",
   "execution_count": null,
   "id": "ce791afa-6db5-4320-b7f9-c5b41142e643",
   "metadata": {},
   "outputs": [],
   "source": [
    "a = [0,1,2,3,4,5]\n",
    "\n",
    "# スライスで表示する\n",
    "print(a[1:4])\n",
    "print(a[2:])\n",
    "print(a[:2])\n",
    "\n",
    "# 指定した数でステップして表示する\n",
    "print(a[::2])\n",
    "print(a[::-3])"
   ]
  },
  {
   "cell_type": "code",
   "execution_count": null,
   "id": "20e3a6de-56d2-4606-824b-fa1bdc450fab",
   "metadata": {},
   "outputs": [],
   "source": [
    "# 4. Listのネスト\n",
    "\n",
    "a = [['sato','suzuki'],['takahashi','tanaka']]\n",
    "\n",
    "print(a[0][0])\n",
    "print(a[0][1])\n",
    "print(a[1][0])\n",
    "print(a[1][1])"
   ]
  },
  {
   "cell_type": "code",
   "execution_count": null,
   "id": "1293b3ad-46b0-4816-b686-c6ff60df68b8",
   "metadata": {},
   "outputs": [],
   "source": [
    "# 5.Listの足し算（掛け算）\n",
    "\n",
    "a = ['sato','suzuki','takahashi']\n",
    "\n",
    "a = a + ['tanaka','sato']\n",
    "print(a)\n",
    "\n",
    "# Listの掛け算\n",
    "a = ['sato','suzuki','takahashi'] * 2\n",
    "print(a)"
   ]
  },
  {
   "cell_type": "code",
   "execution_count": null,
   "id": "98812c17-eed8-4d8a-85ab-b32208bce126",
   "metadata": {},
   "outputs": [],
   "source": [
    "# 6. Listに要素を追加(append,extend,insert)\n",
    "\n",
    "# リスト型のメソッド(機能やその使い方)\n",
    "# a.append('tanaka')\n",
    "# print(a)\n",
    "\n",
    "# a.append(['tanaka','sasaki'])\n",
    "# print(a)\n",
    "\n",
    "# a.extend(['tanak','sasaki'])\n",
    "# print(a)\n",
    "\n",
    "# a.extend('watanuki')\n",
    "# print(a)\n",
    "\n",
    "a.insert(0, 'tanaka')\n",
    "print(a)"
   ]
  },
  {
   "cell_type": "code",
   "execution_count": null,
   "id": "a18d6171-6a23-47be-bc53-989e68bab144",
   "metadata": {},
   "outputs": [],
   "source": [
    "# 7.Listの要素を削除(del,pop,clear,remove)\n",
    "\n",
    "# del a[1]\n",
    "# print(a)\n",
    "\n",
    "# print(a.pop(1))\n",
    "# print(a)\n",
    "\n",
    "# a.remove('suzuki')\n",
    "# print(a)\n",
    "\n",
    "# a.clear()\n",
    "# print(a)"
   ]
  },
  {
   "cell_type": "code",
   "execution_count": null,
   "id": "93193179-ab5d-4a6d-8f39-6e45feb2fdf5",
   "metadata": {},
   "outputs": [],
   "source": [
    "# 8.Listの情報を取得(in,index,sort,reverse,min,max)\n",
    "\n",
    "# print('sato' in a)\n",
    "\n",
    "# print('tanaka' in a)\n",
    "\n",
    "a = ['sato','suzuki','takahashi','sato'] \n",
    "print(a.count('sato'))"
   ]
  },
  {
   "cell_type": "code",
   "execution_count": null,
   "id": "f6b76205-fbcd-4961-b3dc-d7d25c5c1ebd",
   "metadata": {},
   "outputs": [],
   "source": [
    "a = ['sato','suzuki','takahashi']\n",
    "\n",
    "print(a.index('sato'))\n",
    "print(a.index('tanaka'))"
   ]
  },
  {
   "cell_type": "code",
   "execution_count": null,
   "id": "2d230834-de8f-4b40-8250-c118d0c1e99d",
   "metadata": {},
   "outputs": [],
   "source": [
    "a = [8,5,3,1,9,6]\n",
    "\n",
    "a.sort()\n",
    "print(a)"
   ]
  },
  {
   "cell_type": "code",
   "execution_count": null,
   "id": "8889dac4-4c1b-4993-b024-a1c8dcd94c7c",
   "metadata": {},
   "outputs": [],
   "source": [
    "a.sort(reverse=True)\n",
    "print(a)\n",
    "\n",
    "a.reverse()\n",
    "print(a)\n",
    "\n",
    "print(max(a))\n",
    "print(min(a))\n",
    "\n",
    "print(a.index(max(a)))\n",
    "\n",
    "print(len(a))"
   ]
  },
  {
   "cell_type": "code",
   "execution_count": null,
   "id": "f3d07b83-8fb9-406e-a806-4616a7be8541",
   "metadata": {},
   "outputs": [],
   "source": []
  }
 ],
 "metadata": {
  "kernelspec": {
   "display_name": "Python 3 (ipykernel)",
   "language": "python",
   "name": "python3"
  },
  "language_info": {
   "codemirror_mode": {
    "name": "ipython",
    "version": 3
   },
   "file_extension": ".py",
   "mimetype": "text/x-python",
   "name": "python",
   "nbconvert_exporter": "python",
   "pygments_lexer": "ipython3",
   "version": "3.7.12"
  }
 },
 "nbformat": 4,
 "nbformat_minor": 5
}
