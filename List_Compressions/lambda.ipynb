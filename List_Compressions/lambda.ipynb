{
 "cells": [
  {
   "cell_type": "markdown",
   "id": "3b201713-3b76-4b8d-9d9b-3f74dbc59592",
   "metadata": {},
   "source": [
    "#### lambda式の記述方法を確認する  "
   ]
  },
  {
   "cell_type": "markdown",
   "id": "2b65fc20-a85c-49d0-bda3-cf88b68de087",
   "metadata": {},
   "source": [
    "👽: Pythonのlambda式は、関数を1行で作成するための機能です。通常のdef文を使わずに、関数を簡潔に表現することができます。lambda式は無名関数とも呼ばれ、主に短い関数を作成する際に使用されます。\n",
    "\n",
    "lambda式の構文は以下の通りです： lambda 引数: 式\n",
    "\n",
    "lambda式は引数として任意の数の引数を受け取ることができます。また、式の評価結果が返り値となります。\n",
    "例えば、以下のようなlambda式があります： add = lambda x, y: x + y\n",
    "このlambda式は2つの引数xとyを受け取り、それらを足し合わせた結果を返します。\n",
    "\n",
    "lambda式は関数オブジェクトとして扱えるため、他の関数やメソッドの引数として使ったり、変数に代入して利用することもできます。また、高階関数（関数を引数として受け取る関数）との組み合わせで、より柔軟なプログラミングが可能になります。\n",
    "ただし、lambda式は簡潔な表現を重視するため、複雑な処理や複数行の実装には向いていません。その場合は通常のdef文を使用した関数定義が適しています。  \n",
    "... by ChatGPT  "
   ]
  },
  {
   "cell_type": "code",
   "execution_count": 2,
   "id": "29cce8ad-ea35-4354-b40b-10a8bc9eeb98",
   "metadata": {},
   "outputs": [
    {
     "data": {
      "text/plain": [
       "['IMANISHI', 'TANAKA', 'SAITO', 'SUZUKI', 'TANAKA']"
      ]
     },
     "execution_count": 2,
     "metadata": {},
     "output_type": "execute_result"
    }
   ],
   "source": [
    "# list:studentsに格納された苗字を大文字に変換する\n",
    "\n",
    "students = [\"Imanishi\", \"TANAKA\", \"saito\", \"suzuki\", \"Tanaka\"]\n",
    "\n",
    "# 最初にfor文で処理する\n",
    "new_students = []\n",
    "for student in students:\n",
    "    new_students.append(student.upper())\n",
    "\n",
    "new_students"
   ]
  },
  {
   "cell_type": "code",
   "execution_count": 5,
   "id": "73c81051-95dd-4b82-9dd3-8adbc08f2e7b",
   "metadata": {},
   "outputs": [
    {
     "data": {
      "text/plain": [
       "['IMANISHI', 'TANAKA', 'SAITO', 'SUZUKI', 'TANAKA']"
      ]
     },
     "execution_count": 5,
     "metadata": {},
     "output_type": "execute_result"
    }
   ],
   "source": [
    "# 次にlist内包表記で確認する\n",
    "\n",
    "new_students2 = [student.upper() for student in students]\n",
    "\n",
    "new_students2"
   ]
  },
  {
   "cell_type": "code",
   "execution_count": 6,
   "id": "fbca21ba-e9dd-40c5-92e9-d595fc2b105e",
   "metadata": {},
   "outputs": [
    {
     "data": {
      "text/plain": [
       "['IMANISHI', 'TANAKA', 'SAITO', 'SUZUKI', 'TANAKA']"
      ]
     },
     "execution_count": 6,
     "metadata": {},
     "output_type": "execute_result"
    }
   ],
   "source": [
    "# lambda式で確認する\n",
    "\n",
    "new_students3 = list(map(lambda student: student.upper(), students))\n",
    "\n",
    "new_students3"
   ]
  }
 ],
 "metadata": {
  "kernelspec": {
   "display_name": "Python 3 (ipykernel)",
   "language": "python",
   "name": "python3"
  },
  "language_info": {
   "codemirror_mode": {
    "name": "ipython",
    "version": 3
   },
   "file_extension": ".py",
   "mimetype": "text/x-python",
   "name": "python",
   "nbconvert_exporter": "python",
   "pygments_lexer": "ipython3",
   "version": "3.7.12"
  }
 },
 "nbformat": 4,
 "nbformat_minor": 5
}
