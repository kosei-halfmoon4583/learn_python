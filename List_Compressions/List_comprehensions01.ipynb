{
 "cells": [
  {
   "cell_type": "markdown",
   "id": "9365fb95-6282-465c-bed0-9adb8abf7c8b",
   "metadata": {},
   "source": [
    "## リスト内包表記  \n",
    "  \n",
    "  ### 最初にfor文で処理を記述する\n"
   ]
  },
  {
   "cell_type": "code",
   "execution_count": 3,
   "id": "edf2bfc4-a562-4bab-a1ae-daa88ea406a5",
   "metadata": {},
   "outputs": [
    {
     "data": {
      "text/plain": [
       "44"
      ]
     },
     "execution_count": 3,
     "metadata": {},
     "output_type": "execute_result"
    }
   ],
   "source": [
    "import random\n",
    "random.randint(1,100)"
   ]
  },
  {
   "cell_type": "code",
   "execution_count": 6,
   "id": "73d7f796-a3ed-4f7e-8dd8-728a687a1f7d",
   "metadata": {},
   "outputs": [],
   "source": [
    "data = []\n",
    "for _ in range(1000):\n",
    "    x = random.randint(1, 100)\n",
    "    data.append(x)"
   ]
  },
  {
   "cell_type": "code",
   "execution_count": 7,
   "id": "d4f2b7e4-1c40-4a77-8479-038140ce0676",
   "metadata": {},
   "outputs": [],
   "source": [
    "data_10x = []\n",
    "\n",
    "for datum in data:\n",
    "    data_10x.append(datum*10)"
   ]
  },
  {
   "cell_type": "code",
   "execution_count": 8,
   "id": "d914629a-e88a-497f-8c58-91a22b15cfb6",
   "metadata": {},
   "outputs": [
    {
     "data": {
      "text/plain": [
       "[430, 380, 190, 990, 40, 540, 380, 300, 880, 220]"
      ]
     },
     "execution_count": 8,
     "metadata": {},
     "output_type": "execute_result"
    }
   ],
   "source": [
    "data_10x[:10]"
   ]
  },
  {
   "cell_type": "markdown",
   "id": "1b60ca87-678c-4841-ac80-bc6110dc4acc",
   "metadata": {},
   "source": [
    "### 次に上記のfor文をリスト内包表記で記述する  \n",
    "#### リスト内包表記を\"One liner(One liner記法)\"と言ったりもするそうです。  "
   ]
  },
  {
   "cell_type": "code",
   "execution_count": 9,
   "id": "0cd2dae6-05b3-490d-afee-bb61818f74c7",
   "metadata": {},
   "outputs": [],
   "source": [
    "new_data_10x = [datum*10 for datum in data]"
   ]
  },
  {
   "cell_type": "code",
   "execution_count": 10,
   "id": "10e2c5f3-ad05-4ab9-881b-0fb2e6cf0153",
   "metadata": {},
   "outputs": [
    {
     "data": {
      "text/plain": [
       "[430, 380, 190, 990, 40, 540, 380, 300, 880, 220]"
      ]
     },
     "execution_count": 10,
     "metadata": {},
     "output_type": "execute_result"
    }
   ],
   "source": [
    "new_data_10x[:10]"
   ]
  },
  {
   "cell_type": "markdown",
   "id": "82443b66-37dd-44d1-9158-4a20e3e38f14",
   "metadata": {},
   "source": [
    "※if文を使って、奇数のみを取り出してみる  \n",
    "  最初は通常のfor文にif文を入れて記述してみる"
   ]
  },
  {
   "cell_type": "code",
   "execution_count": 11,
   "id": "c7e324ff-93b2-41b1-ac88-b3cbda533e8d",
   "metadata": {},
   "outputs": [],
   "source": [
    "data_odd = []\n",
    "for datum in data:\n",
    "    if datum % 2 != 0:\n",
    "        data_odd.append(datum)"
   ]
  },
  {
   "cell_type": "code",
   "execution_count": 12,
   "id": "f84c8a42-7704-4e16-abb3-4f194b6853f4",
   "metadata": {},
   "outputs": [
    {
     "data": {
      "text/plain": [
       "[43, 19, 99, 43, 5, 39, 79, 9, 23, 69]"
      ]
     },
     "execution_count": 12,
     "metadata": {},
     "output_type": "execute_result"
    }
   ],
   "source": [
    "data_odd[:10]"
   ]
  },
  {
   "cell_type": "markdown",
   "id": "ab788eb4-ec9f-4a71-ade9-5777e88cb42d",
   "metadata": {},
   "source": [
    "※次にリスト内包表記で記述してみる"
   ]
  },
  {
   "cell_type": "code",
   "execution_count": 13,
   "id": "4693a274-8425-4be4-98b9-5a0a372357ca",
   "metadata": {},
   "outputs": [],
   "source": [
    "# if文が一つの場合は、for文の後ろにif文を記述する\n",
    " \n",
    "new_data_odd = [datum for datum in data if datum % 2 != 0]"
   ]
  },
  {
   "cell_type": "code",
   "execution_count": 14,
   "id": "abbe6c65-4d90-43a7-b2dc-063eccd53e40",
   "metadata": {},
   "outputs": [
    {
     "data": {
      "text/plain": [
       "[43, 19, 99, 43, 5, 39, 79, 9, 23, 69]"
      ]
     },
     "execution_count": 14,
     "metadata": {},
     "output_type": "execute_result"
    }
   ],
   "source": [
    "new_data_odd[:10]"
   ]
  },
  {
   "cell_type": "markdown",
   "id": "4891da26-a5d5-4f6c-b218-8afe0c7d0fbb",
   "metadata": {},
   "source": [
    "※次にif,elseを含めて記述してみる  \n",
    "ある値(x)が、50 >= x (50以上の整数）はそのまま表示  \n",
    "50 < x (50未満の整数）は100倍する  "
   ]
  },
  {
   "cell_type": "markdown",
   "id": "a05e32c4-5363-4735-b69f-ca22fa506b50",
   "metadata": {},
   "source": [
    "最初はfor文で記述する"
   ]
  },
  {
   "cell_type": "code",
   "execution_count": 15,
   "id": "1c7d18d6-c3ae-44d6-a9c7-bd5ae8c362f8",
   "metadata": {},
   "outputs": [],
   "source": [
    "data_50 = []\n",
    "for datum in data:\n",
    "    if datum >= 50:\n",
    "        data_50.append(datum)\n",
    "    else:\n",
    "        data_50.append(datum*100)"
   ]
  },
  {
   "cell_type": "code",
   "execution_count": 16,
   "id": "c58c1103-7088-47f7-b0fb-9f1f8b93d381",
   "metadata": {},
   "outputs": [
    {
     "data": {
      "text/plain": [
       "[4300, 3800, 1900, 99, 400, 54, 3800, 3000, 88, 2200]"
      ]
     },
     "execution_count": 16,
     "metadata": {},
     "output_type": "execute_result"
    }
   ],
   "source": [
    "data_50[:10]"
   ]
  },
  {
   "cell_type": "markdown",
   "id": "d2ace30b-1fdd-478a-bd00-94837a44cdec",
   "metadata": {},
   "source": [
    "次にリスト内包表記で記述する"
   ]
  },
  {
   "cell_type": "code",
   "execution_count": 17,
   "id": "0039bbf4-689d-44a4-8c7f-ae2b4ed8f782",
   "metadata": {},
   "outputs": [],
   "source": [
    "# if,else文の場合は、for文とカウンター変数(この場合は'datum'の間にif,else文を記述する\n",
    " \n",
    "new_data_50 = [datum if datum >= 50 else datum*100 for datum in data]"
   ]
  },
  {
   "cell_type": "code",
   "execution_count": 18,
   "id": "24bf825a-ca26-4647-a29b-0b158d9252e0",
   "metadata": {},
   "outputs": [
    {
     "data": {
      "text/plain": [
       "[4300, 3800, 1900, 99, 400, 54, 3800, 3000, 88, 2200]"
      ]
     },
     "execution_count": 18,
     "metadata": {},
     "output_type": "execute_result"
    }
   ],
   "source": [
    "new_data_50[:10]"
   ]
  },
  {
   "cell_type": "markdown",
   "id": "74cd5713-7ebe-475b-9dbb-a393e0296ebb",
   "metadata": {},
   "source": [
    "### FizzBuzz問題\n",
    "1から５０までの数字を出力するプログラムを書いてください。  \n",
    "ただし、数字が3の倍数のときは数字の代わりにFizzと出力し、5の倍数の時は数字の代わりにBuzzと出力し、    \n",
    "3と5の倍数の時は、FizzBuzzと出力すること。  "
   ]
  },
  {
   "cell_type": "markdown",
   "id": "fe264fd2-94b1-4dab-b064-efe12a7123f8",
   "metadata": {},
   "source": [
    "最初はfor文で記述する"
   ]
  },
  {
   "cell_type": "code",
   "execution_count": 19,
   "id": "1ed2c93c-728b-44fc-9f68-928aac3873fe",
   "metadata": {},
   "outputs": [],
   "source": [
    "fizz_buzz = []\n",
    "\n",
    "for i in range(1, 51):\n",
    "    if i % 15 == 0:\n",
    "        fizz_buzz.append(\"FizzBuzz\")\n",
    "    elif i % 3 == 0:\n",
    "        fizz_buzz.append(\"Fizz\")\n",
    "    elif i % 5 == 0:\n",
    "        fizz_buzz.append(\"Buzz\")\n",
    "    else:\n",
    "        fizz_buzz.append(i)"
   ]
  },
  {
   "cell_type": "code",
   "execution_count": 21,
   "id": "d04d04ad-0011-40bd-910e-c4663e88a015",
   "metadata": {},
   "outputs": [],
   "source": [
    "# fizz_buzz[:20]"
   ]
  },
  {
   "cell_type": "markdown",
   "id": "369f59ef-c79b-4bc6-936f-666ddf26bd02",
   "metadata": {},
   "source": [
    "次にリスト内包表記で記述する"
   ]
  },
  {
   "cell_type": "code",
   "execution_count": 22,
   "id": "715a4d07-0894-486c-a244-5acafc62b523",
   "metadata": {},
   "outputs": [],
   "source": [
    "new_fizz_buzz = [\"FizzBuzz\" if i % 15 == 0 else \"Fizz\" if i % 3 == 0 else \"Buzz\" if i % 5 == 0 else i for i in range(1,51)]"
   ]
  },
  {
   "cell_type": "code",
   "execution_count": 24,
   "id": "635d09f9-a8e9-45e9-92e8-62052e169817",
   "metadata": {},
   "outputs": [],
   "source": [
    "# new_fizz_buzz[:30]"
   ]
  },
  {
   "cell_type": "code",
   "execution_count": 22,
   "id": "96158896-6e9d-4dd9-8a04-cb6f93893f51",
   "metadata": {},
   "outputs": [],
   "source": [
    "new_fizz_buzz = [\"FizzBuzz\" if i % 15 == 0 else \"Fizz\" if i % 3 == 9 else \"Buzz\" if i % 5 == 0 else i for i in range(1,51)]"
   ]
  }
 ],
 "metadata": {
  "kernelspec": {
   "display_name": "Python 3 (ipykernel)",
   "language": "python",
   "name": "python3"
  },
  "language_info": {
   "codemirror_mode": {
    "name": "ipython",
    "version": 3
   },
   "file_extension": ".py",
   "mimetype": "text/x-python",
   "name": "python",
   "nbconvert_exporter": "python",
   "pygments_lexer": "ipython3",
   "version": "3.7.12"
  }
 },
 "nbformat": 4,
 "nbformat_minor": 5
}
