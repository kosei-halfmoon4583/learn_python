{
 "cells": [
  {
   "cell_type": "markdown",
   "id": "97de6747-60c7-4069-b41e-b7648165c5ec",
   "metadata": {},
   "source": [
    "リスト内包表記"
   ]
  },
  {
   "cell_type": "code",
   "execution_count": 3,
   "id": "e2eabef9-0d11-4795-81ea-68b4255230f1",
   "metadata": {},
   "outputs": [
    {
     "name": "stdout",
     "output_type": "stream",
     "text": [
      "[0, 1, 2, 3, 4]\n",
      "[0, 1, 2, 3, 4]\n"
     ]
    }
   ],
   "source": [
    "# for分の場合\n",
    "l1 = []\n",
    "for i in range(5):\n",
    "    l1.append(i)\n",
    "\n",
    "# リスト内包表記\n",
    "l2 = [i for i in range(5)]\n",
    "\n",
    "print(l1)\n",
    "print(l2)"
   ]
  },
  {
   "cell_type": "code",
   "execution_count": 4,
   "id": "44f5e317-ab7e-42bb-ac3a-348e1de8219e",
   "metadata": {},
   "outputs": [
    {
     "name": "stdout",
     "output_type": "stream",
     "text": [
      "[0.0, 0.5, 1.0, 1.5, 2.0]\n"
     ]
    }
   ],
   "source": [
    "# カウンタ変数を２で割った値を、要素に持つリストを作成する\n",
    "l = [i / 2 for i in range(5)]\n",
    "\n",
    "print(l)"
   ]
  },
  {
   "cell_type": "code",
   "execution_count": 5,
   "id": "1b59be48-9d95-4555-8a24-690b6eff6f2b",
   "metadata": {},
   "outputs": [
    {
     "name": "stdout",
     "output_type": "stream",
     "text": [
      "{0, 1, 2, 3, 4}\n"
     ]
    }
   ],
   "source": [
    "# 集合内包表記\n",
    "s = {i for i in range(5)}\n",
    "\n",
    "print(s)"
   ]
  },
  {
   "cell_type": "code",
   "execution_count": 6,
   "id": "d4987b37-a367-4ef4-9b15-2dc393595fa8",
   "metadata": {},
   "outputs": [
    {
     "name": "stdout",
     "output_type": "stream",
     "text": [
      "{0.0, 0.5, 2.0, 1.0, 1.5}\n"
     ]
    }
   ],
   "source": [
    "# カウンタ変数を２で割った値を、要素に持つ集合リストを作成する\n",
    "s = {i / 2 for i in range(5)}\n",
    "\n",
    "print(s)"
   ]
  },
  {
   "cell_type": "code",
   "execution_count": 7,
   "id": "6762de99-35d4-4125-8448-0636a06f3c0d",
   "metadata": {},
   "outputs": [
    {
     "name": "stdout",
     "output_type": "stream",
     "text": [
      "{0: 0, 1: 2, 2: 4, 3: 6, 4: 8}\n"
     ]
    }
   ],
   "source": [
    "# 辞書内包表記\n",
    "d = {i : i * 2 for i in range(5)}\n",
    "\n",
    "print(d)"
   ]
  },
  {
   "cell_type": "code",
   "execution_count": 8,
   "id": "f398c0c8-2ead-45c7-874e-07312a5b9f9c",
   "metadata": {},
   "outputs": [
    {
     "name": "stdout",
     "output_type": "stream",
     "text": [
      "[0, 2, 4, 6, 8]\n"
     ]
    }
   ],
   "source": [
    "# 条件付き内包表記(if文のみ：0〜9までの偶数要素を持つリスト）\n",
    "l = [i for i in range(10) if i % 2 == 0]\n",
    "\n",
    "print(l)"
   ]
  },
  {
   "cell_type": "code",
   "execution_count": 11,
   "id": "f8b16495-17b9-4d14-a197-fe021f55d177",
   "metadata": {},
   "outputs": [
    {
     "name": "stdout",
     "output_type": "stream",
     "text": [
      "{0: 'even', 1: 'odd', 2: 'even', 3: 'odd', 4: 'even', 5: 'odd', 6: 'even', 7: 'odd', 8: 'even', 9: 'odd'}\n"
     ]
    }
   ],
   "source": [
    "# 条件付き内包表記(ifとelseを使う場合：0〜9までの偶数要素を持つリスト）\n",
    "d = {i: \"even\" if i % 2 == 0 else \"odd\" for i in range(10)}\n",
    "\n",
    "print(d)"
   ]
  },
  {
   "cell_type": "code",
   "execution_count": 12,
   "id": "0640f399-1d2a-4ecf-9b8e-ba08ca217a89",
   "metadata": {},
   "outputs": [
    {
     "name": "stdout",
     "output_type": "stream",
     "text": [
      "[11, 12, 13, 101, 102, 103, 1001, 1002, 1003]\n",
      "[11, 12, 13, 101, 102, 103, 1001, 1002, 1003]\n"
     ]
    }
   ],
   "source": [
    "# 内包表記のネスト(10,100,1000から1つずつ値を取り出し、(1,2,3)から1つずつ取り出した値を足し算する)\n",
    "\n",
    "# for文の場合\n",
    "l1 = []\n",
    "for i in (10,100,1000):\n",
    "    for j in (1,2,3):\n",
    "        l1.append(i + j)\n",
    "        \n",
    "# リスト内包表記の場合\n",
    "l2 = [i + j for i in (10,100,1000) for j in (1,2,3)]\n",
    "\n",
    "print(l1)\n",
    "print(l2)"
   ]
  },
  {
   "cell_type": "code",
   "execution_count": null,
   "id": "5fbd901d-6cfc-4cb9-84ef-2c2dde4ec8e5",
   "metadata": {},
   "outputs": [],
   "source": []
  }
 ],
 "metadata": {
  "kernelspec": {
   "display_name": "Python 3 (ipykernel)",
   "language": "python",
   "name": "python3"
  },
  "language_info": {
   "codemirror_mode": {
    "name": "ipython",
    "version": 3
   },
   "file_extension": ".py",
   "mimetype": "text/x-python",
   "name": "python",
   "nbconvert_exporter": "python",
   "pygments_lexer": "ipython3",
   "version": "3.9.12"
  }
 },
 "nbformat": 4,
 "nbformat_minor": 5
}
