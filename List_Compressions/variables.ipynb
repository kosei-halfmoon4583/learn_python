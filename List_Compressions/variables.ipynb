{
 "cells": [
  {
   "cell_type": "markdown",
   "id": "06972261-53a5-4171-bed4-6225476744f6",
   "metadata": {},
   "source": [
    "変数名のルール：PEP8\n",
    "1. 変数名はアルファベット、数字、アンダースコアを組み合わせて作ります。\n",
    "2. スペース、ドット、カンマのような記号は変数名として利用できません。\n",
    "3. 単語をくぐりたいときは、このように大文字を使うか、\n",
    "    VariableCodes → キャメルケースと呼びます(ラクダのコブのように見えることから)。\n",
    "   アンダースコアを使います。\n",
    "    variable_codes → スネークケースと呼びます(ベビのように見えることから)。\n",
    "4. 変数名の最初の一文字を数字にすることはできません。最初の一文字はアルファベットか、アンダースコアで開始する。\n",
    "5. アルファベットの大文字と小文字は区別されます。\n",
    "6. 予約語(ex.. return, class, for, whileなど)は変数名として使うことができません。"
   ]
  },
  {
   "cell_type": "code",
   "execution_count": 1,
   "id": "11d15f4e-fde8-491c-8573-4204105c9b25",
   "metadata": {},
   "outputs": [
    {
     "name": "stdout",
     "output_type": "stream",
     "text": [
      "1\n",
      "2\n",
      "3\n"
     ]
    }
   ],
   "source": [
    "num = 1\n",
    "num01 = 2\n",
    "num_01 = 3\n",
    "\n",
    "print(num)\n",
    "print(num01)\n",
    "print(num_01)"
   ]
  },
  {
   "cell_type": "markdown",
   "id": "b0d3476f-74c5-401e-8000-b8fd03a81dfb",
   "metadata": {},
   "source": [
    "予約語について  \n",
    "大抵のプログラミング言語は予約語を持っています。予約語とは実際にプログラムで使用する基本的な命令のことです。  \n",
    "はじめからPythonに搭載されている関数などが対象で、全部で35種類あります。Pythonの予約後は他のプログラミング言語と比較すると数がとても少ないです。\n",
    "そのため、プログラムを書くときのルールがとてもシンプルになり、少ないルールを覚えるだけで様々なプログラムを書くことができるようになっています。"
   ]
  },
  {
   "cell_type": "code",
   "execution_count": 6,
   "id": "3ee8d948-e172-4f2c-9c2b-22de6c19d5fe",
   "metadata": {},
   "outputs": [
    {
     "name": "stdout",
     "output_type": "stream",
     "text": [
      "['False', 'None', 'True', 'and', 'as', 'assert', 'async', 'await', 'break', 'class', 'continue', 'def', 'del', 'elif', 'else', 'except', 'finally', 'for', 'from', 'global', 'if', 'import', 'in', 'is', 'lambda', 'nonlocal', 'not', 'or', 'pass', 'raise', 'return', 'try', 'while', 'with', 'yield']\n",
      "35\n"
     ]
    }
   ],
   "source": [
    "# Pythonの予約後は、keywordモジュールのkeyword.kwlistを使うと確認できます。\n",
    "\n",
    "import keyword\n",
    "\n",
    "print(keyword.kwlist)\n",
    "print(len(keyword.kwlist))"
   ]
  },
  {
   "cell_type": "code",
   "execution_count": 8,
   "id": "d6220fd6-9d96-42f2-8dd8-7df35b7c893c",
   "metadata": {},
   "outputs": [
    {
     "name": "stdout",
     "output_type": "stream",
     "text": [
      "True\n",
      "False\n"
     ]
    }
   ],
   "source": [
    "# またkeywordであるか調べることもできます。\n",
    "# 予約語であれば、True, 予約語でなければ False が表示されます。\n",
    "\n",
    "print(keyword.iskeyword('return'))\n",
    "print(keyword.iskeyword('Return'))"
   ]
  },
  {
   "cell_type": "code",
   "execution_count": null,
   "id": "258f6f77-38cc-4be0-b399-7112c656c88d",
   "metadata": {},
   "outputs": [],
   "source": []
  }
 ],
 "metadata": {
  "kernelspec": {
   "display_name": "Python 3 (ipykernel)",
   "language": "python",
   "name": "python3"
  },
  "language_info": {
   "codemirror_mode": {
    "name": "ipython",
    "version": 3
   },
   "file_extension": ".py",
   "mimetype": "text/x-python",
   "name": "python",
   "nbconvert_exporter": "python",
   "pygments_lexer": "ipython3",
   "version": "3.7.12"
  }
 },
 "nbformat": 4,
 "nbformat_minor": 5
}
