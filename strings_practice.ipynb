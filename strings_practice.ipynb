{
 "cells": [
  {
   "cell_type": "markdown",
   "id": "085a54d5-a927-4898-b609-a11beebd852d",
   "metadata": {},
   "source": [
    "#### 文字列について\n",
    "1.文字列とは  \n",
    "2.文字列の結合  \n",
    "3.文字列の分割  \n",
    "4.文字列の検索  \n",
    "5.文字列の置換  \n",
    "6.変数を含む文字列  "
   ]
  },
  {
   "cell_type": "markdown",
   "id": "f04950f5-7a18-4179-b44b-da67b77f831b",
   "metadata": {},
   "source": [
    "1.文字列とは\n",
    "　文字列とは文字や記号が連なったものです。Pythonではシングルクォーテーションやダブルクォーテーション、string関数で囲まれた文字や記号を文字列としています。  "
   ]
  },
  {
   "cell_type": "code",
   "execution_count": 31,
   "id": "60d06d2b-3cf7-4d1a-90d5-e9906dfbbaa2",
   "metadata": {},
   "outputs": [
    {
     "name": "stdout",
     "output_type": "stream",
     "text": [
      "abcde <class 'str'>\n",
      "あいうえお <class 'str'>\n",
      "12345 <class 'str'>\n",
      "a\n",
      "あ\n",
      "1\n"
     ]
    }
   ],
   "source": [
    "a = 'abcde'\n",
    "b = \"あいうえお\"\n",
    "c = str(12345)\n",
    "\n",
    "print(a, type(a))\n",
    "print(b, type(b))\n",
    "print(c, type(c))\n",
    "\n",
    "print(a[0])\n",
    "print(b[0])\n",
    "print(c[0])"
   ]
  },
  {
   "cell_type": "code",
   "execution_count": 32,
   "id": "089e6008-9ec2-481d-83fe-69d5eff41e3c",
   "metadata": {},
   "outputs": [
    {
     "name": "stdout",
     "output_type": "stream",
     "text": [
      "aaabbb\n",
      "abcabcabcabcabc\n",
      "a-b-c\n"
     ]
    }
   ],
   "source": [
    "# 2.文字列の結合\n",
    "x = \"aaa\" + \"bbb\"\n",
    "print(x)\n",
    "\n",
    "x = 'abc' * 5\n",
    "print(x)\n",
    "\n",
    "x = \"-\".join([\"a\",\"b\",\"c\"])\n",
    "print(x)"
   ]
  },
  {
   "cell_type": "code",
   "execution_count": 33,
   "id": "50a29adf-bdc2-458a-a4b0-ce4c1caaadc2",
   "metadata": {},
   "outputs": [
    {
     "name": "stdout",
     "output_type": "stream",
     "text": [
      "['I', 'study', 'Python']\n",
      "['I', 'study', 'Python']\n"
     ]
    }
   ],
   "source": [
    "# 3.文字列の分割\n",
    "x = \"I study Python\"\n",
    "a = x.split()\n",
    "\n",
    "print(a)\n",
    "\n",
    "x = \"I-study-Python\"\n",
    "a = x.split(sep=\"-\")\n",
    "\n",
    "print(a)"
   ]
  },
  {
   "cell_type": "code",
   "execution_count": 34,
   "id": "7fe39615-d383-497f-bc6c-638667e900d4",
   "metadata": {},
   "outputs": [
    {
     "name": "stdout",
     "output_type": "stream",
     "text": [
      "True\n",
      "True\n",
      "False\n",
      "2\n",
      "2\n",
      "8\n",
      "-1\n"
     ]
    }
   ],
   "source": [
    "# 4.文字列の検索\n",
    "x = \"I study Python\"\n",
    "\n",
    "print(\"s\" in x)\n",
    "print(\"study\" in x)\n",
    "print(\"python\" in x) # 大文字と小文字は区別して判定される\n",
    "\n",
    "a = x.find(\"s\")\n",
    "\n",
    "print(a)\n",
    "\n",
    "a1 = x.find(\"study\")\n",
    "a2 = x.find(\"Python\")\n",
    "a3 = x.find(\"python\")\n",
    "\n",
    "print(a1)\n",
    "print(a2)\n",
    "print(a3)"
   ]
  },
  {
   "cell_type": "code",
   "execution_count": 35,
   "id": "df833329-8c7d-4287-a03e-cacb16defdda",
   "metadata": {},
   "outputs": [
    {
     "name": "stdout",
     "output_type": "stream",
     "text": [
      "I study Ruby\n",
      "IstudyPython\n"
     ]
    }
   ],
   "source": [
    "# 5.文字列の置換\n",
    "x = \"I study Python\"\n",
    "a = x.replace(\"Python\", \"Ruby\")\n",
    "\n",
    "print(a)\n",
    "\n",
    "a = x.replace(\" \", \"\")\n",
    "print(a)"
   ]
  },
  {
   "cell_type": "code",
   "execution_count": 36,
   "id": "8e46db7e-9b1d-4957-9167-c545361ad5ee",
   "metadata": {},
   "outputs": [
    {
     "name": "stdout",
     "output_type": "stream",
     "text": [
      "1 + 2 = 3\n",
      "1 + 2 = 3\n",
      "1 + 2 = 3\n",
      "2 + 1 = 3\n",
      "2 + 1 = 3\n",
      "1 + 2 = 0.50\n",
      "1 + 2 = 0.5\n",
      "1 + 2 = 0.50\n"
     ]
    }
   ],
   "source": [
    "# 6.変数を含む文字列\n",
    "\n",
    "# .formatメソッドを使用する\n",
    "x = 3\n",
    "print(\"1 + 2 = {}\".format(x))\n",
    "\n",
    "print(\"1 + 2 = {}\".format(1 + 2))\n",
    "\n",
    "x = 1\n",
    "y = 2\n",
    "print(\"{} + {} = {}\".format(x,y, x+y))\n",
    "\n",
    "print(\"{1} + {0} = {2}\".format(x,y, x+y))\n",
    "\n",
    "# キーワード引数を使用する\n",
    "print(\"{B} + {A} = {result}\".format(A = x, B = y, result = x + y))\n",
    "\n",
    "# A, B, resultのことを仮引数と言い、x,y,x+yのように実際に渡す値のことを実引数と言います。\n",
    "\n",
    "# 書式を指定する ({: 書式})\n",
    "print(\"{} + {} = {:.2f}\".format(x,y, x / y))\n",
    "\n",
    "# format済み文字列を使用する\n",
    "print(f\"{x} + {y} = {x / y}\")\n",
    "print(f\"{x} + {y} = {x / y:.2f}\")"
   ]
  },
  {
   "cell_type": "code",
   "execution_count": null,
   "id": "622a9adf-9bec-4864-ba75-0e2aeb9d8756",
   "metadata": {},
   "outputs": [],
   "source": []
  }
 ],
 "metadata": {
  "kernelspec": {
   "display_name": "Python 3 (ipykernel)",
   "language": "python",
   "name": "python3"
  },
  "language_info": {
   "codemirror_mode": {
    "name": "ipython",
    "version": 3
   },
   "file_extension": ".py",
   "mimetype": "text/x-python",
   "name": "python",
   "nbconvert_exporter": "python",
   "pygments_lexer": "ipython3",
   "version": "3.9.12"
  }
 },
 "nbformat": 4,
 "nbformat_minor": 5
}
