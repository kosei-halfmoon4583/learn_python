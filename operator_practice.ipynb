{
 "cells": [
  {
   "cell_type": "markdown",
   "id": "0dd9ac26-4586-4943-b547-a938e36871ac",
   "metadata": {},
   "source": [
    "#### 演算子について\n",
    "1.演算子とは    \n",
    "2.算術演算子  \n",
    "3.関係演算子  \n",
    "4.論理演算子  \n",
    "5.代入演算子、複合代入演算子  \n",
    "6.is演算子、is not 演算子  \n",
    "7.in演算子、not in 演算子  \n",
    "8.ビット演算子  \n",
    "  \n",
    "1.演算子とは. \n",
    " 演算子とは足し算引き算など、四則演算や２つの直の大小を比較するときに使う記号のことです。  "
   ]
  },
  {
   "cell_type": "code",
   "execution_count": 3,
   "id": "96e1c2e9-b185-4396-9b24-b513e3d5c441",
   "metadata": {},
   "outputs": [
    {
     "name": "stdout",
     "output_type": "stream",
     "text": [
      "12\n",
      "8\n",
      "20\n",
      "5.0\n",
      "0\n",
      "5\n"
     ]
    }
   ],
   "source": [
    "# 2.算術演算子\n",
    "x = 10\n",
    "y = 2\n",
    "\n",
    "print(x + y) # 足し算\n",
    "print(x - y) # 引き算\n",
    "print(x * y) # 掛け算\n",
    "print(x / y) # 割り算\n",
    "print(x % y) # 剰余\n",
    "print(x // y) # 商\n"
   ]
  },
  {
   "cell_type": "code",
   "execution_count": 7,
   "id": "a16904e4-8108-4cb7-a825-7d3cffd04ef0",
   "metadata": {},
   "outputs": [
    {
     "name": "stdout",
     "output_type": "stream",
     "text": [
      "True\n",
      "False\n",
      "False\n",
      "True\n",
      "False\n",
      "True\n"
     ]
    }
   ],
   "source": [
    "# 3.関係演算子　(関係演算子とは二つの値の関係が新鍵か判断させる演算子のことです。)\n",
    "\n",
    "x = 10\n",
    "y = 2\n",
    "z = 10\n",
    "\n",
    "# 関係演算子（大小関係)\n",
    "print(x > y)\n",
    "print(x < y)\n",
    "\n",
    "print(x <= y)\n",
    "print(x >= z)\n",
    "\n",
    "# 関係演算子（等価関係)\n",
    "print(x == y)\n",
    "print(x != y)"
   ]
  },
  {
   "cell_type": "code",
   "execution_count": 8,
   "id": "a7b37d01-ebc2-46cc-88f8-9b4d35733886",
   "metadata": {},
   "outputs": [
    {
     "name": "stdout",
     "output_type": "stream",
     "text": [
      "True\n",
      "False\n"
     ]
    }
   ],
   "source": [
    "# 4.論理演算子 (論理演算子とは複数の条件を判断させる演算子のことです。)\n",
    "\n",
    "x = 8\n",
    "y = 3\n",
    "\n",
    "# and 条件\n",
    "print(x >= 5 and x <= 10)\n",
    "print(y >= 5 and y <= 10)\n",
    "\n",
    "# or 条件\n",
    "print(x == 3 or y == 3)\n",
    "print(x == 1 or y == 1)\n"
   ]
  },
  {
   "cell_type": "code",
   "execution_count": 11,
   "id": "7a998d84-f2fe-40b9-a853-a444254e1917",
   "metadata": {},
   "outputs": [
    {
     "name": "stdout",
     "output_type": "stream",
     "text": [
      "18\n",
      "32\n"
     ]
    }
   ],
   "source": [
    "# 5.代入演算子、複合代入演算子  \n",
    "\n",
    "x = 8\n",
    "y = 12\n",
    "z = 20\n",
    "\n",
    "# 複合代入演算子\n",
    "x += 10\n",
    "z += y\n",
    "\n",
    "print(x)\n",
    "print(z)"
   ]
  },
  {
   "cell_type": "code",
   "execution_count": 17,
   "id": "47b336bb-76ff-4765-89a5-16c80a4f6419",
   "metadata": {},
   "outputs": [
    {
     "name": "stdout",
     "output_type": "stream",
     "text": [
      "l1 == l2 : True\n",
      "l1 is l2 : False\n",
      "l1 == l3 : True\n",
      "l1 is l3 : True\n",
      "l1_id : 140297951623168\n",
      "l2_id : 140297951621888\n",
      "l3_id : 140297951623168\n",
      "[1, 2, 3, 4, 5] 140297951623168\n",
      "[1, 2, 3, 4, 5, 6] 140297951623168\n",
      "[1, 2, 3, 4, 5]\n",
      "[1, 2, 3, 4, 5, 6]\n"
     ]
    }
   ],
   "source": [
    "# 6.is演算子　（二つのオブジェクトが同じかどうかを判定する演算子です。）\n",
    "\n",
    "l1 = [1,2,3,4,5]\n",
    "l2 = [1,2,3,4,5]\n",
    "l3 = l1\n",
    "\n",
    "print(\"l1 == l2 :\", l1 == l2)\n",
    "print(\"l1 is l2 :\", l1 is l2)\n",
    "print(\"l1 == l3 :\", l1 == l3)\n",
    "print(\"l1 is l3 :\", l1 is l3)\n",
    "\n",
    "# オブジェクトIDを表示すると同じかどうかが判定できる\n",
    "print(\"l1_id :\", id(l1))\n",
    "print(\"l2_id :\", id(l2))\n",
    "print(\"l3_id :\", id(l3))\n",
    "\n",
    "print(l1, id(l1))\n",
    "l1.append(6)\n",
    "print(l1, id(l1))\n",
    "\n",
    "print(l2)\n",
    "print(l3)"
   ]
  },
  {
   "cell_type": "code",
   "execution_count": 18,
   "id": "f2dc2e69-c43a-4050-bbb4-68bc3ee4710b",
   "metadata": {},
   "outputs": [
    {
     "name": "stdout",
     "output_type": "stream",
     "text": [
      "    l1 is l2 : False\n",
      "l1 is not l2 : True\n",
      "    l1 is l3 : True\n",
      "l1 is not l3 : False\n"
     ]
    }
   ],
   "source": [
    "# 6.is not 演算子 (is not 演算子は、is演算子の逆で、二つのオブジェクトが違う場合にTrueを返し、同じ場合にはFalseを返します。\n",
    "\n",
    "l1 = [1,2,3,4,5]\n",
    "l2 = [1,2,3,4,5]\n",
    "l3 = l1\n",
    "\n",
    "print(\"    l1 is l2 :\", l1 is l2)\n",
    "print(\"l1 is not l2 :\", l1 is not l2)\n",
    "print(\"    l1 is l3 :\", l1 is l3)\n",
    "print(\"l1 is not l3 :\", l1 is not l3)"
   ]
  },
  {
   "cell_type": "code",
   "execution_count": 19,
   "id": "2883a4d3-fd43-4c8a-a63e-d2764ab74fcf",
   "metadata": {},
   "outputs": [
    {
     "name": "stdout",
     "output_type": "stream",
     "text": [
      "Yamada in l : False\n",
      "Suzuki in l : False\n"
     ]
    }
   ],
   "source": [
    "# 7.in演算子 (in演算子も関係演算子の一種でリストやタプルなど複数の要素を持つオブジェクトの中に特定の要素が含まれているかどうか判定する演算子です。）\n",
    "\n",
    "l = ['Yamadsa', 'Sato', 'Takahashi']\n",
    "\n",
    "print(\"Yamada in l :\", \"Yamada\" in l)\n",
    "print(\"Suzuki in l :\", \"Suzuki\" in l)\n"
   ]
  },
  {
   "cell_type": "code",
   "execution_count": 21,
   "id": "8cdcf10b-aaa5-423a-90a2-a8bf96aee501",
   "metadata": {},
   "outputs": [
    {
     "name": "stdout",
     "output_type": "stream",
     "text": [
      "    Yamada in l : True\n",
      "Yamada not in l : False\n",
      "    Suzuki in l : False\n",
      "Suzuki not in l : True\n"
     ]
    }
   ],
   "source": [
    "# 7.not in 演算子 (not in 演算子はin演算子の逆で複数の要素を持つオブジェクトに、特定の要素が含まれていない場合にTrueを返し、含まれている場合にFalseを返す演算子です。）\n",
    "\n",
    "l = ['Yamada', 'Sato', 'Takahashi']\n",
    "\n",
    "print(\"    Yamada in l :\", \"Yamada\" in l)\n",
    "print(\"Yamada not in l :\", \"Yamada\" not in l)\n",
    "print(\"    Suzuki in l :\", \"Suzuki\" in l)\n",
    "print(\"Suzuki not in l :\", \"Suzuki\" not in l)\n",
    "\n"
   ]
  },
  {
   "cell_type": "code",
   "execution_count": 24,
   "id": "5a916e13-52f9-442e-b242-d42eed8448ad",
   "metadata": {},
   "outputs": [
    {
     "name": "stdout",
     "output_type": "stream",
     "text": [
      "2\n",
      "8\n",
      "10\n",
      "0b10\n",
      "0b1000\n",
      "0b1010\n"
     ]
    }
   ],
   "source": [
    "# ビット演算子 (ビット演算氏は、２進数で表した数値を０と1の羅列とみなしビット論理演算をする演算子です。）\n",
    "\n",
    "# 2進数表示\n",
    "print(0b10)\n",
    "print(0b1000)\n",
    "print(0b1010)\n",
    "\n",
    "# 2進数への変換\n",
    "print(bin(2))\n",
    "print(bin(8))\n",
    "print(bin(10))"
   ]
  },
  {
   "cell_type": "code",
   "execution_count": null,
   "id": "d951f23c-47ec-45a9-aa6f-368c24078bde",
   "metadata": {},
   "outputs": [],
   "source": []
  }
 ],
 "metadata": {
  "kernelspec": {
   "display_name": "Python 3 (ipykernel)",
   "language": "python",
   "name": "python3"
  },
  "language_info": {
   "codemirror_mode": {
    "name": "ipython",
    "version": 3
   },
   "file_extension": ".py",
   "mimetype": "text/x-python",
   "name": "python",
   "nbconvert_exporter": "python",
   "pygments_lexer": "ipython3",
   "version": "3.9.12"
  }
 },
 "nbformat": 4,
 "nbformat_minor": 5
}
