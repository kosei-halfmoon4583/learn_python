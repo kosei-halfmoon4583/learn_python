{
 "cells": [
  {
   "cell_type": "markdown",
   "id": "d8a90b25-9ebc-40fe-80b9-94f5e016b0a0",
   "metadata": {},
   "source": [
    "#### 条件分岐(if)について\n",
    "\n",
    "1.分岐処理とは  \n",
    "2.if文  \n",
    "3.if〜else文  \n",
    "4.if〜elif〜else文  \n",
    "5.複数の演算子を使った条件分岐  \n",
    "6.match文  \n",
    "7.pass  \n",
    "8.三項演算子  "
   ]
  },
  {
   "cell_type": "markdown",
   "id": "a0b452f1-f40f-4ba5-912a-ab0ca636f740",
   "metadata": {},
   "source": [
    "1.分岐処理とは  \n",
    "　条件分岐とは、条件に合致する場合は「処理A」、合致しない場合は「処理B」というように、条件により処理を切り替えることです。"
   ]
  },
  {
   "cell_type": "code",
   "execution_count": 2,
   "id": "27559ce9-047a-4f41-a09c-e99c38f30e20",
   "metadata": {},
   "outputs": [
    {
     "name": "stdout",
     "output_type": "stream",
     "text": [
      "adult\n"
     ]
    }
   ],
   "source": [
    "# 2.if文\n",
    "age = 22\n",
    "\n",
    "if age >= 20:\n",
    "    print('adult')\n"
   ]
  },
  {
   "cell_type": "code",
   "execution_count": 3,
   "id": "d6c46470-53ad-4b63-b459-ee8624c6c585",
   "metadata": {},
   "outputs": [
    {
     "name": "stdout",
     "output_type": "stream",
     "text": [
      "child\n"
     ]
    }
   ],
   "source": [
    "# 3.if〜else文\n",
    "age = 18\n",
    "\n",
    "if age >= 20:\n",
    "    print('adult')\n",
    "else:\n",
    "    print('child')"
   ]
  },
  {
   "cell_type": "code",
   "execution_count": 14,
   "id": "2729cb99-0d20-4c2d-954d-4ca239f87d79",
   "metadata": {},
   "outputs": [
    {
     "name": "stdout",
     "output_type": "stream",
     "text": [
      "young\n"
     ]
    }
   ],
   "source": [
    "# 4.if〜elif〜else文\n",
    "age = 18\n",
    "\n",
    "if age >= 20:\n",
    "    print('adult')\n",
    "elif age == 0:\n",
    "    print('baby')\n",
    "elif age > 0 and age <= 19:\n",
    "    print('young')\n",
    "else:\n",
    "    print('child')"
   ]
  },
  {
   "cell_type": "code",
   "execution_count": 44,
   "id": "29370d1a-6f33-44e4-b068-7be5182e104e",
   "metadata": {},
   "outputs": [
    {
     "name": "stdout",
     "output_type": "stream",
     "text": [
      "6の倍数です\n"
     ]
    }
   ],
   "source": [
    "# 5.複数の演算子を使った条件分岐\n",
    "number = 24\n",
    "\n",
    "if number % 2 == 0 and number % 3 == 0:\n",
    "    print('6の倍数です')\n",
    "elif number % 2 == 0 and number % 3 != 0:\n",
    "    print('2の倍数です')\n",
    "elif number % 2 != 0 and number % 3 == 0:\n",
    "    print('3の倍数です')\n",
    "else:\n",
    "    print('２と3の倍数ではありません')\n"
   ]
  },
  {
   "cell_type": "code",
   "execution_count": 52,
   "id": "24b951be-af6e-447a-871e-c30837672157",
   "metadata": {},
   "outputs": [
    {
     "name": "stdout",
     "output_type": "stream",
     "text": [
      "りんご\n"
     ]
    }
   ],
   "source": [
    "# 6.match文\n",
    "\n",
    "# まずはif文を使って書いてみる\n",
    "fruit = \"apple\"\n",
    "\n",
    "if fruit == \"apple\":\n",
    "    print(\"りんご\")\n",
    "elif fruit == \"orange\":\n",
    "    print(\"みかん\")\n",
    "elif fruit == \"grape\":\n",
    "    print(\"ぶどう\")\n",
    "elif fruit == \"peach\":\n",
    "    print(\"もも\")\n",
    "else:\n",
    "    print(\"その他の果物\")"
   ]
  },
  {
   "cell_type": "code",
   "execution_count": 53,
   "id": "b1c6f56e-c955-4dbf-84a2-76805e879224",
   "metadata": {},
   "outputs": [
    {
     "ename": "SyntaxError",
     "evalue": "invalid syntax (996220460.py, line 3)",
     "output_type": "error",
     "traceback": [
      "\u001b[0;36m  Input \u001b[0;32mIn [53]\u001b[0;36m\u001b[0m\n\u001b[0;31m    match fruit1:\u001b[0m\n\u001b[0m          ^\u001b[0m\n\u001b[0;31mSyntaxError\u001b[0m\u001b[0;31m:\u001b[0m invalid syntax\n"
     ]
    }
   ],
   "source": [
    "# 次にmatch文で書いてみる\n",
    "fruit1 = \"orage\"\n",
    "match fruit1:\n",
    "    case \"apple\":\n",
    "        print(\"りんご\")\n",
    "    case \"orange\":\n",
    "        print(\"みかん\")\n",
    "    case \"grape\":\n",
    "        print(\"ぶどう\")\n",
    "    case \"peach\":\n",
    "        print(\"もも\")\n",
    "    case _:\n",
    "        print(\"その他の果物\")"
   ]
  },
  {
   "cell_type": "code",
   "execution_count": 56,
   "id": "7e1a6bf3-22eb-4c8a-bf64-cfbcd34595e4",
   "metadata": {},
   "outputs": [],
   "source": [
    "# 7.pass\n",
    "age = 18\n",
    "\n",
    "if age >= 20:\n",
    "    print('adult')\n",
    "else:\n",
    "    pass"
   ]
  },
  {
   "cell_type": "code",
   "execution_count": 58,
   "id": "ac95402a-5dc2-4051-ad71-311f9013608d",
   "metadata": {},
   "outputs": [
    {
     "name": "stdout",
     "output_type": "stream",
     "text": [
      "child\n",
      "adult\n"
     ]
    }
   ],
   "source": [
    "# 8.三項演算子(*条件式とも呼ばれます)\n",
    "\n",
    "# 最初に通常のif文で書いてみる\n",
    "age = 18\n",
    "\n",
    "if age >= 20:\n",
    "    print('adult')\n",
    "else:\n",
    "    print('child')\n",
    "\n",
    "# 次に同じ処理を三項演算子を使って書いてみる\n",
    "age = 20\n",
    "\n",
    "print(\"adult\" if age >= 20 else \"child\")\n"
   ]
  },
  {
   "cell_type": "code",
   "execution_count": 61,
   "id": "1e8a8267-5d9e-409c-972f-afcd8b16ae0e",
   "metadata": {},
   "outputs": [
    {
     "data": {
      "text/plain": [
       "'3.9.12 (main, Apr  5 2022, 01:53:17) \\n[Clang 12.0.0 ]'"
      ]
     },
     "execution_count": 61,
     "metadata": {},
     "output_type": "execute_result"
    }
   ],
   "source": [
    "import sys\n",
    "sys.version"
   ]
  },
  {
   "cell_type": "code",
   "execution_count": null,
   "id": "6f48b504-53d2-4e65-a0d2-f9ba2061ebb6",
   "metadata": {},
   "outputs": [],
   "source": []
  }
 ],
 "metadata": {
  "kernelspec": {
   "display_name": "Python 3 (ipykernel)",
   "language": "python",
   "name": "python3"
  },
  "language_info": {
   "codemirror_mode": {
    "name": "ipython",
    "version": 3
   },
   "file_extension": ".py",
   "mimetype": "text/x-python",
   "name": "python",
   "nbconvert_exporter": "python",
   "pygments_lexer": "ipython3",
   "version": "3.9.12"
  }
 },
 "nbformat": 4,
 "nbformat_minor": 5
}
