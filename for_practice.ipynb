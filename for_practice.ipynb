{
 "cells": [
  {
   "cell_type": "markdown",
   "id": "a537dec4-8582-46f0-8dc0-effe28f7c70e",
   "metadata": {},
   "source": [
    "#### 繰り返し処理について\n",
    "1.for文とは  \n",
    "2.for文の使い方  \n",
    "3.break  \n",
    "4.continue  \n",
    "5.for文のネスト  \n",
    "6.for文の使用例  \n",
    "7.while文  \n",
    "8.無限ループ  \n"
   ]
  },
  {
   "cell_type": "markdown",
   "id": "d9f4f375-57db-4384-aec5-a11ba1345151",
   "metadata": {},
   "source": [
    "繰り返し処理とは、決まった回数や条件を満たしていれば、同じ処理を繰り返すプログラム構造です。  \n",
    "反復処理やループ処理といった入りもします。"
   ]
  },
  {
   "cell_type": "code",
   "execution_count": null,
   "id": "4a1b8028-1e32-4be2-9704-60769ca0b411",
   "metadata": {},
   "outputs": [],
   "source": [
    "# 1.for文とは\n",
    "for i in [0,1,2,3,4]:\n",
    "    print(i)\n",
    "\n",
    "# range関数を使用する\n",
    "for i in range(5):\n",
    "    print(i)"
   ]
  },
  {
   "cell_type": "code",
   "execution_count": null,
   "id": "9b1a11c4-024a-468e-977c-d7e8f2bf1cd1",
   "metadata": {},
   "outputs": [],
   "source": [
    "# 3.break\n",
    "for i in range(5):\n",
    "    if i == 3:\n",
    "        break\n",
    "    print(i)"
   ]
  },
  {
   "cell_type": "code",
   "execution_count": null,
   "id": "0fa48747-38b6-44b2-b465-5a0b5b1227b9",
   "metadata": {},
   "outputs": [],
   "source": [
    "# 4.continue\n",
    "for i in range(5):\n",
    "    if i == 3:\n",
    "        continue\n",
    "    print(i)"
   ]
  },
  {
   "cell_type": "code",
   "execution_count": null,
   "id": "a9b0eea7-5f80-4328-b230-0107300fa5d0",
   "metadata": {},
   "outputs": [],
   "source": [
    "# 5.for文のネスト\n",
    "for i in range(3):\n",
    "    for j in range(3):\n",
    "        print(i, j, sep='-')"
   ]
  },
  {
   "cell_type": "code",
   "execution_count": null,
   "id": "2788efd7-8b48-404e-8d44-0f1898ae94c4",
   "metadata": {},
   "outputs": [],
   "source": [
    "# 6.for文の使用例\n",
    "string = ['Tokyo', 'Osaka', 'Nagoya']\n",
    "for i in string:\n",
    "    print(i)\n",
    "\n",
    "arr = [2,4,6,8,10]\n",
    "sum = 0\n",
    "for i in arr:\n",
    "    sum += i\n",
    "print(sum)"
   ]
  },
  {
   "cell_type": "code",
   "execution_count": null,
   "id": "ce28558d-c86b-43d0-a3ef-764219b8a619",
   "metadata": {},
   "outputs": [],
   "source": [
    "# 7.while文\n",
    "i = 0\n",
    "while i < 5:\n",
    "    print(i)\n",
    "    i += 1\n",
    "print(\"       \")\n",
    "\n",
    "i = 1\n",
    "while i < 100:\n",
    "    print(i)\n",
    "    i *= 2\n",
    "print(\"Finish!\")"
   ]
  },
  {
   "cell_type": "code",
   "execution_count": null,
   "id": "c3b8bfa6-6e44-49e8-a0fe-b6e7ea7f3830",
   "metadata": {},
   "outputs": [],
   "source": [
    "# 8.無限ループ\n",
    "i = 200\n",
    "while i < 100:\n",
    "    i *= 2\n",
    "    print(i)\n",
    "print(\"Finish!\")\n",
    "\n",
    "print(\"       \")\n",
    "\n",
    "i = 200\n",
    "while True:\n",
    "    print(i)\n",
    "    i *= 2\n",
    "    if i >= 100:\n",
    "        break\n",
    "print(\"Finish!\")\n"
   ]
  }
 ],
 "metadata": {
  "kernelspec": {
   "display_name": "Python 3 (ipykernel)",
   "language": "python",
   "name": "python3"
  },
  "language_info": {
   "codemirror_mode": {
    "name": "ipython",
    "version": 3
   },
   "file_extension": ".py",
   "mimetype": "text/x-python",
   "name": "python",
   "nbconvert_exporter": "python",
   "pygments_lexer": "ipython3",
   "version": "3.9.12"
  }
 },
 "nbformat": 4,
 "nbformat_minor": 5
}
